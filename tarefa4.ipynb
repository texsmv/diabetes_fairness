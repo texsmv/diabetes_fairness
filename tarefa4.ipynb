{
 "cells": [
  {
   "cell_type": "code",
   "execution_count": 5,
   "metadata": {},
   "outputs": [
    {
     "name": "stdout",
     "output_type": "stream",
     "text": [
      "The autoreload extension is already loaded. To reload it, use:\n",
      "  %reload_ext autoreload\n"
     ]
    }
   ],
   "source": [
    "%load_ext autoreload\n",
    "%autoreload 2\n",
    "\n",
    "import pandas as pd\n",
    "import numpy as np\n",
    "\n",
    "import seaborn as sns\n",
    "import matplotlib.pyplot as plt\n",
    "%matplotlib inline\n",
    "plt.style.use('ggplot')\n",
    "\n",
    "from sklearn.model_selection import train_test_split\n",
    "from sklearn.preprocessing import StandardScaler\n",
    "from sklearn import metrics\n",
    "from sklearn.model_selection import GridSearchCV\n",
    "from sklearn.model_selection import RandomizedSearchCV\n",
    "from sklearn.model_selection import cross_val_score\n",
    "from sklearn.metrics import confusion_matrix\n",
    "from sklearn.metrics import roc_curve, auc\n",
    "from sklearn.metrics import classification_report\n",
    "\n",
    "from sklearn.naive_bayes import GaussianNB\n",
    "from sklearn.neighbors import KNeighborsClassifier\n",
    "from sklearn.svm import SVC\n",
    "from sklearn.ensemble import RandomForestClassifier\n",
    "from sklearn.ensemble import GradientBoostingClassifier\n",
    "# from xgboost import XGBClassifier\n",
    "from utils import read_diabetes_dataset\n",
    "from imblearn.over_sampling import SMOTE"
   ]
  },
  {
   "cell_type": "code",
   "execution_count": 6,
   "metadata": {},
   "outputs": [],
   "source": [
    "# data = pd.read_csv('diabetic_data.csv')\n",
    "BINARY = False\n",
    "X, y = read_diabetes_dataset(binary=BINARY, use_paper_setup=True)\n",
    "\n",
    "X_train, X_valtest, y_train, y_valtest = train_test_split(X, y, test_size=0.3, random_state=101)\n",
    "X_val, X_test, y_val, y_test = train_test_split(X_valtest, y_valtest, test_size=0.5, random_state=101)"
   ]
  },
  {
   "cell_type": "code",
   "execution_count": 7,
   "metadata": {},
   "outputs": [],
   "source": [
    "# np.unique(X_train.weight, return_counts=True)\n",
    "# X_train.weight"
   ]
  },
  {
   "cell_type": "code",
   "execution_count": 12,
   "metadata": {},
   "outputs": [
    {
     "name": "stdout",
     "output_type": "stream",
     "text": [
      "<class 'pandas.core.frame.DataFrame'>\n",
      "Int64Index: 50062 entries, 7243 to 45919\n",
      "Data columns (total 17 columns):\n",
      " #   Column                    Non-Null Count  Dtype\n",
      "---  ------                    --------------  -----\n",
      " 0   gender                    50062 non-null  int64\n",
      " 1   age                       50062 non-null  int64\n",
      " 2   admission_type_id         50062 non-null  int64\n",
      " 3   discharge_disposition_id  50062 non-null  int64\n",
      " 4   admission_source_id       50062 non-null  int64\n",
      " 5   time_in_hospital          50062 non-null  int64\n",
      " 6   num_lab_procedures        50062 non-null  int64\n",
      " 7   num_procedures            50062 non-null  int64\n",
      " 8   max_glu_serum             50062 non-null  int64\n",
      " 9   A1Cresult                 50062 non-null  int64\n",
      " 10  diabetesMed               50062 non-null  int64\n",
      " 11  readmitted                50062 non-null  int64\n",
      " 12  race_AfricanAmerican      50062 non-null  uint8\n",
      " 13  race_Asian                50062 non-null  uint8\n",
      " 14  race_Caucasian            50062 non-null  uint8\n",
      " 15  race_Hispanic             50062 non-null  uint8\n",
      " 16  race_Other                50062 non-null  uint8\n",
      "dtypes: int64(12), uint8(5)\n",
      "memory usage: 5.2 MB\n"
     ]
    }
   ],
   "source": [
    "X_train.info()"
   ]
  },
  {
   "cell_type": "code",
   "execution_count": 11,
   "metadata": {},
   "outputs": [],
   "source": [
    "# np.info()"
   ]
  },
  {
   "cell_type": "code",
   "execution_count": 3,
   "metadata": {},
   "outputs": [],
   "source": [
    "clf = SVC() \n",
    "# clf = XGBClassifier(tree_method='gpu_hist', predictor='gpu_predictor')\n",
    "clf.fit(X_train, y_train)\n",
    "pred = clf.predict(X_val)"
   ]
  },
  {
   "cell_type": "code",
   "execution_count": 4,
   "metadata": {},
   "outputs": [
    {
     "name": "stdout",
     "output_type": "stream",
     "text": [
      "\n",
      "K-Nearest Neighbor Initial Performance:\n",
      "---------------------------------------\n",
      "F1 Score        :  0.47659265388389005\n"
     ]
    }
   ],
   "source": [
    "print('\\nK-Nearest Neighbor Initial Performance:')\n",
    "print('---------------------------------------')\n",
    "print('F1 Score        : ', metrics.f1_score(y_val, pred, average='weighted'))\n",
    "# print('Confusion Matrix:\\n ', confusion_matrix(y_val, pred))"
   ]
  }
 ],
 "metadata": {
  "kernelspec": {
   "display_name": "Python 3.8.13 ('cuml-torch')",
   "language": "python",
   "name": "python3"
  },
  "language_info": {
   "codemirror_mode": {
    "name": "ipython",
    "version": 3
   },
   "file_extension": ".py",
   "mimetype": "text/x-python",
   "name": "python",
   "nbconvert_exporter": "python",
   "pygments_lexer": "ipython3",
   "version": "3.8.13"
  },
  "orig_nbformat": 4,
  "vscode": {
   "interpreter": {
    "hash": "16ac00c0aae14b2c47d32d44577e6834b4fabf6d4eb1a3c4b23cc5fc30cd0339"
   }
  }
 },
 "nbformat": 4,
 "nbformat_minor": 2
}
