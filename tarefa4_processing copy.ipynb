{
 "cells": [
  {
   "cell_type": "markdown",
   "metadata": {},
   "source": [
    "## Fairness processing"
   ]
  },
  {
   "cell_type": "code",
   "execution_count": 20,
   "metadata": {},
   "outputs": [
    {
     "name": "stdout",
     "output_type": "stream",
     "text": [
      "The autoreload extension is already loaded. To reload it, use:\n",
      "  %reload_ext autoreload\n"
     ]
    }
   ],
   "source": [
    "%load_ext autoreload\n",
    "%autoreload 2\n",
    "from imblearn.over_sampling import SMOTE\n",
    "\n",
    "from sklearn.model_selection import train_test_split\n",
    "from sklearn.tree import DecisionTreeClassifier\n",
    "from sklearn.linear_model import LogisticRegression\n",
    "from sklearn.linear_model import SGDClassifier\n",
    "\n",
    "from sklearn.metrics import accuracy_score, balanced_accuracy_score\n",
    "from sklearn.metrics import roc_auc_score\n",
    "from aif360.sklearn.metrics import average_odds_difference\n",
    "from aif360.sklearn.metrics import equal_opportunity_difference\n",
    "from aif360.sklearn.inprocessing import AdversarialDebiasing\n",
    "\n",
    "from sklego.linear_model import EqualOpportunityClassifier\n",
    "from fairlearn.postprocessing import ThresholdOptimizer\n",
    "\n",
    "from utils import read_diabetes_dataset\n",
    "from utils import statistical_parity\n",
    "from utils import average_odds\n",
    "from utils import average_predictive_value\n",
    "from utils import theil_index\n",
    "from utils import disparate_impact\n",
    "\n",
    "from utils import Weighted\n",
    "from utils import CounterfactualPreProcessing\n",
    "\n",
    "\n",
    "import pandas as pd\n",
    "import numpy as np"
   ]
  },
  {
   "cell_type": "code",
   "execution_count": 21,
   "metadata": {},
   "outputs": [],
   "source": [
    "BALANCE = False\n",
    "\n",
    "# protected_atributes = ['race_Caucasian']\n",
    "# privileged_class = [True]\n",
    "\n",
    "protected_atributes = ['gender']\n",
    "privileged_class = [1]\n",
    "\n",
    "# protected_atributes = ['gender', 'race_Caucasian', 'race_AfricanAmerican', 'race_Asian', 'race_Hispanic', 'race_Other']\n",
    "# privileged_class = [1, True, False, False, False, False]\n",
    "# protected_atributes = ['gender', 'race_Caucasian']\n",
    "# privileged_class = [0, True]\n",
    "\n"
   ]
  },
  {
   "cell_type": "code",
   "execution_count": 22,
   "metadata": {},
   "outputs": [],
   "source": [
    "def evaluate_results(y_train, pred_train, Z_train, y_test, pred_test, Z_test):\n",
    "    \n",
    "    acc = accuracy_score(y_train, pred_train)\n",
    "    print('Accuracy', acc)\n",
    "    bacc = balanced_accuracy_score(y_train, pred_train)\n",
    "    print('Balanced Accuracy', bacc)\n",
    "    auc = roc_auc_score(y_train, pred_train)\n",
    "    print('AUC', auc)\n",
    "    eqo = equal_opportunity_difference(y_train, y_train_pred, prot_attr=Z_train.squeeze())\n",
    "    print('Equal opportunity', eqo)\n",
    "    sp = statistical_parity(y_train, y_train_pred, Z_train.squeeze())\n",
    "    sp = sp[0]\n",
    "    print('Statistical parity', sp)\n",
    "    di = disparate_impact(pred_train, Z_train, privileged_class)\n",
    "    print('Disparate Impact', di)\n",
    "    ao =average_odds_difference(y_train, y_train_pred, prot_attr=Z_train.squeeze())\n",
    "    print('Average odds', ao)\n",
    "    ti = theil_index(y_train, y_train_pred)\n",
    "    print('Theil index', ti)\n",
    "\n",
    "    # print('{:.2f} & {:.2f} & {:.2f} & {:.2f} & {:.2f} & {:.2f} & {:.2f}'.format(bacc, auc, eqo, sp, di, ao, ti))\n",
    "    print('{:.3f} & {:.3f} & {:.3f} & {:.3f} & {:.3f} & {:.3f} & {:.3f}'.format(bacc, auc, eqo, sp, di, ao, ti))\n",
    "    print(\"----------------------\")\n",
    "\n",
    "    acc = accuracy_score(y_test, pred_test)\n",
    "    print('Accuracy', acc)\n",
    "    bacc  = balanced_accuracy_score(y_test, pred_test)\n",
    "    print('Balanced Accuracy', bacc)\n",
    "    auc =roc_auc_score(y_test, pred_test)\n",
    "    print('AUC', auc)\n",
    "    di = disparate_impact(pred_test, Z_test, privileged_class)\n",
    "    print('Disparate Impact', di)\n",
    "    sp = statistical_parity(y_test, y_test_pred, Z_test.squeeze())\n",
    "    sp = sp[0]\n",
    "    print('Statistical parity', sp)\n",
    "    ao = average_odds_difference(y_test, y_test_pred, prot_attr=Z_test.squeeze())\n",
    "    print('Average odds', ao)\n",
    "    eqo = equal_opportunity_difference(y_test, y_test_pred, prot_attr=Z_test.squeeze())\n",
    "    print('Equal opportunity', eqo)\n",
    "    ti = theil_index(y_test, y_test_pred)\n",
    "    print('Theil index', ti)\n",
    "    # print('{:.2f} & {:.2f} & {:.2f} & {:.2f} & {:.2f} & {:.2f} & {:.2f}'.format(bacc, auc, eqo, sp, di, ao, ti))\n",
    "    print('{:.3f} & {:.3f} & {:.3f} & {:.3f} & {:.3f} & {:.3f} & {:.3f}'.format(bacc, auc, eqo, sp, di, ao, ti))\n",
    "\n"
   ]
  },
  {
   "cell_type": "markdown",
   "metadata": {},
   "source": [
    "### Dataset"
   ]
  },
  {
   "cell_type": "code",
   "execution_count": 23,
   "metadata": {},
   "outputs": [],
   "source": [
    "X, y = read_diabetes_dataset(binary=True, use_paper_setup=False)\n",
    "\n",
    "X_train, X_test, y_train, y_test = train_test_split(\n",
    "    X, y, test_size=0.2, random_state=101)\n"
   ]
  },
  {
   "cell_type": "code",
   "execution_count": 5,
   "metadata": {},
   "outputs": [],
   "source": [
    "\n",
    "# column_name = X_train.columns\n",
    "\n",
    "if BALANCE:\n",
    "    X_train,y_train = SMOTE().fit_resample(X_train,y_train)\n"
   ]
  },
  {
   "cell_type": "code",
   "execution_count": 6,
   "metadata": {},
   "outputs": [],
   "source": [
    "Z_train = (X_train[protected_atributes]).values\n",
    "Z_test = (X_test[protected_atributes]).values"
   ]
  },
  {
   "cell_type": "markdown",
   "metadata": {},
   "source": [
    "### Without Mitigation"
   ]
  },
  {
   "cell_type": "code",
   "execution_count": 7,
   "metadata": {},
   "outputs": [
    {
     "name": "stdout",
     "output_type": "stream",
     "text": [
      "Accuracy 0.591246699741782\n",
      "Balanced Accuracy 0.591246699741782\n",
      "AUC 0.591246699741782\n",
      "Equal opportunity 0.452012264037567\n",
      "[0] Statistical parity -0.4524261392789609\n",
      "Disparate Impact 3.988495575221239\n",
      "Average odds 0.43857198642236506\n",
      "Theil index 0.28885620179645066\n",
      "0.591 & 0.591 & 0.452 & -0.452 & 3.988 & 0.439 & 0.289\n",
      "----------------------\n",
      "Accuracy 0.564667225950783\n",
      "Balanced Accuracy 0.5582047760108177\n",
      "AUC 0.5582047760108176\n",
      "Disparate Impact 3.285055957867018\n",
      "[0] Statistical parity -0.4292768898090623\n",
      "Average odds 0.4273940154087035\n",
      "Equal opportunity 0.4196403975353356\n",
      "Theil index 0.2712717830621021\n",
      "0.558 & 0.558 & 0.420 & -0.429 & 3.285 & 0.427 & 0.271\n"
     ]
    }
   ],
   "source": [
    "# Logistic Regression\n",
    "lr = LogisticRegression(class_weight=None, max_iter=10**3)\n",
    "\n",
    "lr.fit(X_train, y_train)\n",
    "\n",
    "y_train_pred = lr.predict(X_train)\n",
    "y_test_pred = lr.predict(X_test)\n",
    "\n",
    "evaluate_results(y_train, y_train_pred, Z_train, y_test, y_test_pred, Z_test)"
   ]
  },
  {
   "cell_type": "markdown",
   "metadata": {},
   "source": [
    "### Pre-processing"
   ]
  },
  {
   "cell_type": "markdown",
   "metadata": {},
   "source": [
    "- Weighted"
   ]
  },
  {
   "cell_type": "code",
   "execution_count": 8,
   "metadata": {},
   "outputs": [
    {
     "name": "stderr",
     "output_type": "stream",
     "text": [
      "/home/texs/Documentos/IC/TopicosIA/dataset_diabetes/utils.py:350: FutureWarning: Support for multi-dimensional indexing (e.g. `obj[:, None]`) is deprecated and will be removed in a future version.  Convert to a numpy array before indexing instead.\n",
      "  X[:, self.sensitive_feature_ids], y[:, np.newaxis], axis=1)\n"
     ]
    },
    {
     "name": "stdout",
     "output_type": "stream",
     "text": [
      "Accuracy 0.5763048713261961\n",
      "Balanced Accuracy 0.576304871326196\n",
      "AUC 0.576304871326196\n",
      "Equal opportunity 0.021313046454164097\n",
      "[0] Statistical parity -0.027367812995636065\n",
      "Disparate Impact 1.4267288493769583\n",
      "Average odds 0.012027398989496174\n",
      "Theil index 0.3038606579937587\n",
      "0.576 & 0.576 & 0.021 & -0.027 & 1.427 & 0.012 & 0.304\n",
      "----------------------\n",
      "Accuracy 0.5712388143176734\n",
      "Balanced Accuracy 0.5662723991414209\n",
      "AUC 0.5662723991414208\n",
      "Disparate Impact 1.1530179445350734\n",
      "[0] Statistical parity -0.007033900959992345\n",
      "Average odds 0.006087747496101914\n",
      "Equal opportunity 0.0035469791081130797\n",
      "Theil index 0.2632084192720996\n",
      "0.566 & 0.566 & 0.004 & -0.007 & 1.153 & 0.006 & 0.263\n"
     ]
    }
   ],
   "source": [
    "prot_atributes_ids = [np.argwhere(X.columns==protected_atributes[i])[0][0] for i in range(len(protected_atributes))]\n",
    "\n",
    "lr_weighted = Weighted(LogisticRegression(class_weight=None, max_iter=10**3), sensitive_feature_ids=prot_atributes_ids)\n",
    "lr_weighted.fit(X_train.values, y_train)\n",
    "\n",
    "y_train_pred = lr_weighted.predict(X_train.values)\n",
    "y_test_pred = lr_weighted.predict(X_test.values)\n",
    "\n",
    "evaluate_results(y_train, y_train_pred, Z_train, y_test, y_test_pred, Z_test)"
   ]
  },
  {
   "cell_type": "markdown",
   "metadata": {},
   "source": [
    "- Counterfactual"
   ]
  },
  {
   "cell_type": "code",
   "execution_count": 9,
   "metadata": {},
   "outputs": [
    {
     "name": "stdout",
     "output_type": "stream",
     "text": [
      "(137868, 29) (137868,)\n",
      "Accuracy 0.5798154756723822\n",
      "Balanced Accuracy 0.5798154756723823\n",
      "AUC 0.5798154756723823\n",
      "Equal opportunity 0.0734668321482449\n",
      "[0] Statistical parity -0.07867168908655742\n",
      "Disparate Impact 1.587014982712255\n",
      "Average odds 0.06317033268656497\n",
      "Theil index 0.2981778557420493\n",
      "0.580 & 0.580 & 0.073 & -0.079 & 1.587 & 0.063 & 0.298\n",
      "----------------------\n",
      "Accuracy 0.5692114093959731\n",
      "Balanced Accuracy 0.5649027167373019\n",
      "AUC 0.5649027167373019\n",
      "Disparate Impact 1.286696459264352\n",
      "[0] Statistical parity -0.05780274204795177\n",
      "Average odds 0.05669697325257217\n",
      "Equal opportunity 0.05326950451402601\n",
      "Theil index 0.26234258830153234\n",
      "0.565 & 0.565 & 0.053 & -0.058 & 1.287 & 0.057 & 0.262\n"
     ]
    }
   ],
   "source": [
    "lr_counter = CounterfactualPreProcessing(LogisticRegression(class_weight=None, max_iter=10**3), sensitive_feature_ids=prot_atributes_ids)\n",
    "lr_counter.fit(X_train.values, y_train)\n",
    "\n",
    "y_train_pred = lr_counter.predict(X_train.values)\n",
    "y_test_pred = lr_counter.predict(X_test.values)\n",
    "\n",
    "evaluate_results(y_train, y_train_pred, Z_train, y_test, y_test_pred, Z_test)"
   ]
  },
  {
   "cell_type": "markdown",
   "metadata": {},
   "source": [
    "### In-processing"
   ]
  },
  {
   "cell_type": "markdown",
   "metadata": {},
   "source": [
    "- Fairness mitigation"
   ]
  },
  {
   "cell_type": "code",
   "execution_count": 10,
   "metadata": {},
   "outputs": [],
   "source": [
    "Xn_train = X_train.drop(protected_atributes, axis=1)\n",
    "Xn_test = X_test.drop(protected_atributes, axis=1)"
   ]
  },
  {
   "cell_type": "code",
   "execution_count": 11,
   "metadata": {},
   "outputs": [
    {
     "name": "stdout",
     "output_type": "stream",
     "text": [
      "Accuracy 0.5796704093770854\n",
      "Balanced Accuracy 0.5796704093770854\n",
      "AUC 0.5796704093770854\n",
      "Equal opportunity 0.07324973611646357\n",
      "[0] Statistical parity -0.07841899154025056\n",
      "Disparate Impact 1.5862466384940452\n",
      "Average odds 0.06294547245923182\n",
      "Theil index 0.2983666906136223\n",
      "0.580 & 0.580 & 0.073 & -0.078 & 1.586 & 0.063 & 0.298\n",
      "----------------------\n",
      "Accuracy 0.5692813199105146\n",
      "Balanced Accuracy 0.5649614159624721\n",
      "AUC 0.5649614159624721\n",
      "Disparate Impact 1.2871389270976616\n",
      "[0] Statistical parity -0.057952040345951195\n",
      "Average odds 0.056933536171288324\n",
      "Equal opportunity 0.05396401622703939\n",
      "Theil index 0.2623382897875576\n",
      "0.565 & 0.565 & 0.054 & -0.058 & 1.287 & 0.057 & 0.262\n"
     ]
    }
   ],
   "source": [
    "# Logistic Regression\n",
    "lr = LogisticRegression(class_weight=None, max_iter=10**3)\n",
    "lr.fit(Xn_train, y_train)\n",
    "\n",
    "y_train_pred = lr.predict(Xn_train)\n",
    "y_test_pred = lr.predict(Xn_test)\n",
    "\n",
    "evaluate_results(y_train, y_train_pred, Z_train, y_test, y_test_pred, Z_test)"
   ]
  },
  {
   "cell_type": "markdown",
   "metadata": {},
   "source": [
    "- Counterfactual appends"
   ]
  },
  {
   "cell_type": "code",
   "execution_count": 12,
   "metadata": {},
   "outputs": [],
   "source": [
    "X_train_cf =  X_train.copy()\n",
    "X_train_cf[protected_atributes] = X_train_cf[protected_atributes].replace({0:1, 1:0})\n",
    "X_train_cf = pd.concat([X_train_cf, X_train])\n",
    "y_train_cf = pd.concat([y_train, y_train])\n",
    "\n",
    "X_test_cf =  X_test.copy()\n",
    "X_test_cf[protected_atributes] = X_test_cf[protected_atributes].replace({0:1, 1:0})\n",
    "X_test_cf = pd.concat([X_test_cf, X_test])\n",
    "y_test_cf = pd.concat([y_test, y_test])"
   ]
  },
  {
   "cell_type": "code",
   "execution_count": 13,
   "metadata": {},
   "outputs": [
    {
     "name": "stdout",
     "output_type": "stream",
     "text": [
      "Accuracy 0.579684916006615\n",
      "Balanced Accuracy 0.5796849160066151\n",
      "AUC 0.5796849160066151\n",
      "Equal opportunity 0.07393047483428161\n",
      "[0] Statistical parity -0.07889252252313733\n",
      "Disparate Impact 1.5877786318216756\n",
      "Average odds 0.06342711423128161\n",
      "Theil index 0.2982955424063117\n",
      "0.580 & 0.580 & 0.074 & -0.079 & 1.588 & 0.063 & 0.298\n",
      "----------------------\n",
      "Accuracy 0.5688618568232662\n",
      "Balanced Accuracy 0.5645537880904812\n",
      "AUC 0.5645537880904812\n",
      "Disparate Impact 1.2854689110271385\n",
      "[0] Statistical parity -0.0573726703007566\n",
      "Average odds 0.05634559347339402\n",
      "Equal opportunity 0.05331655750253306\n",
      "Theil index 0.262529637735382\n",
      "0.565 & 0.565 & 0.053 & -0.057 & 1.285 & 0.056 & 0.263\n"
     ]
    }
   ],
   "source": [
    "# Logistic Regression\n",
    "lr = LogisticRegression(class_weight=None, max_iter=10**3)\n",
    "lr.fit(X_train_cf, y_train_cf)\n",
    "\n",
    "y_train_pred = lr.predict(X_train)\n",
    "y_test_pred = lr.predict(X_test)\n",
    "\n",
    "evaluate_results(y_train, y_train_pred, Z_train, y_test, y_test_pred, Z_test)"
   ]
  },
  {
   "cell_type": "markdown",
   "metadata": {},
   "source": [
    "### Post-processing"
   ]
  },
  {
   "cell_type": "code",
   "execution_count": 14,
   "metadata": {},
   "outputs": [],
   "source": [
    "# Z_train = X_train[protected_atributes]\n",
    "# Z_test = X_test[protected_atributes]\n",
    "\n",
    "# Z_train = Z_train.values\n",
    "# Z_test = Z_test.values"
   ]
  },
  {
   "cell_type": "code",
   "execution_count": 15,
   "metadata": {},
   "outputs": [],
   "source": [
    "# Z_train.shape"
   ]
  },
  {
   "cell_type": "markdown",
   "metadata": {},
   "source": [
    "- Model"
   ]
  },
  {
   "cell_type": "code",
   "execution_count": 16,
   "metadata": {},
   "outputs": [
    {
     "name": "stdout",
     "output_type": "stream",
     "text": [
      "Accuracy 0.591246699741782\n",
      "Balanced Accuracy 0.591246699741782\n",
      "AUC 0.591246699741782\n",
      "Equal opportunity 0.452012264037567\n",
      "[0] Statistical parity -0.4524261392789609\n",
      "Disparate Impact 3.988495575221239\n",
      "Average odds 0.43857198642236506\n",
      "Theil index 0.28885620179645066\n",
      "0.591 & 0.591 & 0.452 & -0.452 & 3.988 & 0.439 & 0.289\n",
      "----------------------\n",
      "Accuracy 0.564667225950783\n",
      "Balanced Accuracy 0.5582047760108177\n",
      "AUC 0.5582047760108176\n",
      "Disparate Impact 3.285055957867018\n",
      "[0] Statistical parity -0.4292768898090623\n",
      "Average odds 0.4273940154087035\n",
      "Equal opportunity 0.4196403975353356\n",
      "Theil index 0.2712717830621021\n",
      "0.558 & 0.558 & 0.420 & -0.429 & 3.285 & 0.427 & 0.271\n"
     ]
    }
   ],
   "source": [
    "lr = LogisticRegression(class_weight=None, max_iter=10**3)\n",
    "lr.fit(X_train, y_train)\n",
    "\n",
    "y_train_pred = lr.predict(X_train)\n",
    "y_test_pred = lr.predict(X_test)\n",
    "\n",
    "evaluate_results(y_train, y_train_pred, Z_train, y_test, y_test_pred, Z_test)"
   ]
  },
  {
   "cell_type": "markdown",
   "metadata": {},
   "source": [
    "- Optimizer"
   ]
  },
  {
   "cell_type": "code",
   "execution_count": 17,
   "metadata": {},
   "outputs": [
    {
     "name": "stdout",
     "output_type": "stream",
     "text": [
      "Accuracy 0.577305828763745\n",
      "Balanced Accuracy 0.577305828763745\n",
      "AUC 0.577305828763745\n",
      "Equal opportunity -0.003438223761880743\n",
      "[0] Statistical parity -0.0059559652359335025\n",
      "Disparate Impact 1.363878093679689\n",
      "Average odds -0.00990569695616722\n",
      "Theil index 0.2912150050743401\n",
      "0.577 & 0.577 & -0.003 & -0.006 & 1.364 & -0.010 & 0.291\n",
      "----------------------\n",
      "Accuracy 0.5645973154362416\n",
      "Balanced Accuracy 0.5633567337567902\n",
      "AUC 0.5633567337567902\n",
      "Disparate Impact 1.1070991432068544\n",
      "[0] Statistical parity 0.012229740833386793\n",
      "Average odds -0.0122122425027274\n",
      "Equal opportunity -0.009823751748432641\n",
      "Theil index 0.25565638967711724\n",
      "0.563 & 0.563 & -0.010 & 0.012 & 1.107 & -0.012 & 0.256\n"
     ]
    }
   ],
   "source": [
    "postprocess_est = ThresholdOptimizer(\n",
    "    estimator=lr,\n",
    "    constraints=\"false_negative_rate_parity\",\n",
    "    objective=\"balanced_accuracy_score\",\n",
    "    prefit=True,\n",
    "    predict_method='predict_proba')\n",
    "postprocess_est.fit(X_train, y_train, sensitive_features=Z_train)\n",
    "\n",
    "y_train_pred = postprocess_est.predict(X_train, sensitive_features=Z_train)\n",
    "y_test_pred = postprocess_est.predict(X_test, sensitive_features=Z_test)\n",
    "\n",
    "\n",
    "evaluate_results(y_train, y_train_pred, Z_train, y_test, y_test_pred, Z_test)"
   ]
  },
  {
   "cell_type": "code",
   "execution_count": 18,
   "metadata": {},
   "outputs": [],
   "source": [
    "# procesor = AdversarialDebiasing()\n",
    "\n",
    "# procesor.fit(X_train, y_train)"
   ]
  },
  {
   "cell_type": "code",
   "execution_count": null,
   "metadata": {},
   "outputs": [],
   "source": []
  }
 ],
 "metadata": {
  "kernelspec": {
   "display_name": "Python 3.7.10 ('rapidsml')",
   "language": "python",
   "name": "python3"
  },
  "language_info": {
   "codemirror_mode": {
    "name": "ipython",
    "version": 3
   },
   "file_extension": ".py",
   "mimetype": "text/x-python",
   "name": "python",
   "nbconvert_exporter": "python",
   "pygments_lexer": "ipython3",
   "version": "3.7.10"
  },
  "orig_nbformat": 4,
  "vscode": {
   "interpreter": {
    "hash": "4f51f79755ef8f79693022c2238daee50231b90d0a3e393b6e63d90a9477d06f"
   }
  }
 },
 "nbformat": 4,
 "nbformat_minor": 2
}
