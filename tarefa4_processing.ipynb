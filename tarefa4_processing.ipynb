{
 "cells": [
  {
   "cell_type": "markdown",
   "metadata": {},
   "source": [
    "## Fairness processing"
   ]
  },
  {
   "cell_type": "code",
   "execution_count": 1,
   "metadata": {},
   "outputs": [],
   "source": [
    "from sklearn.model_selection import train_test_split\n",
    "from sklearn.tree import DecisionTreeClassifier\n",
    "from sklearn.linear_model import LogisticRegression\n",
    "from sklearn.metrics import accuracy_score\n",
    "from sklearn.metrics import roc_auc_score\n",
    "\n",
    "from sklego.linear_model import EqualOpportunityClassifier\n",
    "from fairlearn.postprocessing import ThresholdOptimizer\n",
    "\n",
    "from utils import read_diabetes_dataset\n",
    "from utils import statistical_parity\n",
    "from utils import average_odds\n",
    "from utils import average_predictive_value\n",
    "from utils import theil_index\n",
    "\n",
    "from utils import Weighted\n",
    "from utils import CounterfactualPreProcessing\n",
    "\n",
    "import pandas as pd\n",
    "import numpy as np"
   ]
  },
  {
   "cell_type": "markdown",
   "metadata": {},
   "source": [
    "### Dataset"
   ]
  },
  {
   "cell_type": "code",
   "execution_count": 2,
   "metadata": {},
   "outputs": [],
   "source": [
    "X, y = read_diabetes_dataset(binary=True)\n",
    "\n",
    "X_train, X_test, y_train, y_test = train_test_split(\n",
    "    X, y, test_size=0.3, random_state=101)\n"
   ]
  },
  {
   "cell_type": "code",
   "execution_count": 3,
   "metadata": {},
   "outputs": [],
   "source": [
    "# Male: 1, Female: 0\n",
    "sens_variable = 'gender'\n",
    "\n",
    "Z_train = X_train[sens_variable]\n",
    "Z_test = X_test[sens_variable]\n",
    "\n",
    "# sens_columns = ['race_AfricanAmerican', 'race_Asian', 'race_Caucasian', 'race_Hispanic','race_Other']\n",
    "# Z_train = np.argmax(X_train[sens_columns].values, axis=1)\n",
    "# Z_test = np.argmax(X_test[sens_columns].values, axis=1)"
   ]
  },
  {
   "cell_type": "markdown",
   "metadata": {},
   "source": [
    "### Without Mitigation"
   ]
  },
  {
   "cell_type": "code",
   "execution_count": 4,
   "metadata": {},
   "outputs": [
    {
     "name": "stdout",
     "output_type": "stream",
     "text": [
      "Accuracy 0.6260437058048021\n",
      "ROC 0.5530684943265511\n",
      "[0] Statistical parity [-0.02823257]\n",
      "[0] Average odds [-0.02776224]\n",
      "[0] Average predictive value [-0.00958463]\n",
      "Theil index 0.41195578101024366\n",
      "----------------------\n",
      "Accuracy 0.6222501864280388\n",
      "ROC 0.5515052717936609\n",
      "[0] Statistical parity [-0.03763251]\n",
      "[0] Average odds [-0.03691255]\n",
      "[0] Average predictive value [0.01194706]\n",
      "Theil index 0.41560613437135546\n"
     ]
    }
   ],
   "source": [
    "# Logistic Regression\n",
    "lr = LogisticRegression(class_weight=None, max_iter=10**3)\n",
    "lr.fit(X_train, y_train)\n",
    "\n",
    "y_train_pred = lr.predict(X_train)\n",
    "y_test_pred = lr.predict(X_test)\n",
    "\n",
    "print('Accuracy', accuracy_score(y_train, y_train_pred))\n",
    "print('ROC', roc_auc_score(y_train, y_train_pred))\n",
    "print('Statistical parity', statistical_parity(y_train, y_train_pred, Z_train))\n",
    "print('Average odds', average_odds(y_train, y_train_pred, Z_train))\n",
    "print('Average predictive value', average_predictive_value(y_train, y_train_pred, Z_train))\n",
    "print('Theil index', theil_index(y_train, y_train_pred))\n",
    "\n",
    "print(\"----------------------\")\n",
    "\n",
    "print('Accuracy', accuracy_score(y_test, y_test_pred))\n",
    "print('ROC', roc_auc_score(y_test, y_test_pred))\n",
    "print('Statistical parity', statistical_parity(y_test, y_test_pred, Z_test))\n",
    "print('Average odds', average_odds(y_test, y_test_pred, Z_test))\n",
    "print('Average predictive value', average_predictive_value(y_test, y_test_pred, Z_test))\n",
    "print('Theil index', theil_index(y_test, y_test_pred))\n"
   ]
  },
  {
   "cell_type": "code",
   "execution_count": 5,
   "metadata": {},
   "outputs": [],
   "source": [
    "# # Decision Tree\n",
    "# dt = DecisionTreeClassifier(max_depth=7, random_state=123, class_weight=None)\n",
    "# dt.fit(X_train, y_train)\n",
    "\n",
    "# y_train_pred = dt.predict(X_train)\n",
    "# y_test_pred = dt.predict(X_test)\n",
    "\n",
    "# print('Accuracy', accuracy_score(y_train, y_train_pred))\n",
    "# print('ROC', roc_auc_score(y_train, y_train_pred))\n",
    "# print('Statistical parity', statistical_parity(y_train, y_train_pred, Z_train))\n",
    "# print('Average odds', average_odds(y_train, y_train_pred, Z_train))\n",
    "# print('Average predictive value', average_predictive_value(y_train, y_train_pred, Z_train))\n",
    "# print('Theil index', theil_index(y_train, y_train_pred))\n",
    "\n",
    "# print(\"----------------------\")\n",
    "\n",
    "# print('Accuracy', accuracy_score(y_test, y_test_pred))\n",
    "# print('ROC', roc_auc_score(y_test, y_test_pred))\n",
    "# print('Statistical parity', statistical_parity(y_test, y_test_pred, Z_test))\n",
    "# print('Average odds', average_odds(y_test, y_test_pred, Z_test))\n",
    "# print('Average predictive value', average_predictive_value(y_test, y_test_pred, Z_test))\n",
    "# print('Theil index', theil_index(y_test, y_test_pred))\n"
   ]
  },
  {
   "cell_type": "markdown",
   "metadata": {},
   "source": [
    "### Pre-processing"
   ]
  },
  {
   "cell_type": "code",
   "execution_count": 6,
   "metadata": {},
   "outputs": [],
   "source": [
    "sens_position = np.argwhere(X.columns==sens_variable)[0][0]\n",
    "sens_feature_ids = [sens_position]"
   ]
  },
  {
   "cell_type": "markdown",
   "metadata": {},
   "source": [
    "- Weighted"
   ]
  },
  {
   "cell_type": "code",
   "execution_count": 7,
   "metadata": {},
   "outputs": [
    {
     "name": "stderr",
     "output_type": "stream",
     "text": [
      "/home/maldonadoq/University/Unicamp/Teams/MO810/diabetes_fairness/utils.py:279: FutureWarning: Support for multi-dimensional indexing (e.g. `obj[:, None]`) is deprecated and will be removed in a future version.  Convert to a numpy array before indexing instead.\n",
      "  X[:, self.sensitive_feature_ids], y[:, np.newaxis], axis=1)\n"
     ]
    },
    {
     "name": "stdout",
     "output_type": "stream",
     "text": [
      "Accuracy 0.6253046222683872\n",
      "ROC 0.5521743793818592\n",
      "[0] Statistical parity [0.00117495]\n",
      "[0] Average odds [0.00299513]\n",
      "[0] Average predictive value [-0.02161604]\n",
      "Theil index 0.4129778877567931\n",
      "----------------------\n",
      "Accuracy 0.6216442953020134\n",
      "ROC 0.5501138897666888\n",
      "[0] Statistical parity [-0.00843652]\n",
      "[0] Average odds [-0.00673999]\n",
      "[0] Average predictive value [-0.00157209]\n",
      "Theil index 0.41824692244026274\n"
     ]
    }
   ],
   "source": [
    "lr_weighted = Weighted(LogisticRegression(class_weight=None, max_iter=10**3), sensitive_feature_ids=sens_feature_ids)\n",
    "lr_weighted.fit(X_train.values, y_train)\n",
    "\n",
    "y_train_pred = lr_weighted.predict(X_train.values)\n",
    "y_test_pred = lr_weighted.predict(X_test.values)\n",
    "\n",
    "print('Accuracy', accuracy_score(y_train, y_train_pred))\n",
    "print('ROC', roc_auc_score(y_train, y_train_pred))\n",
    "print('Statistical parity', statistical_parity(y_train, y_train_pred, Z_train))\n",
    "print('Average odds', average_odds(y_train, y_train_pred, Z_train))\n",
    "print('Average predictive value', average_predictive_value(y_train, y_train_pred, Z_train))\n",
    "print('Theil index', theil_index(y_train, y_train_pred))\n",
    "\n",
    "print(\"----------------------\")\n",
    "\n",
    "print('Accuracy', accuracy_score(y_test, y_test_pred))\n",
    "print('ROC', roc_auc_score(y_test, y_test_pred))\n",
    "print('Statistical parity', statistical_parity(y_test, y_test_pred, Z_test))\n",
    "print('Average odds', average_odds(y_test, y_test_pred, Z_test))\n",
    "print('Average predictive value', average_predictive_value(y_test, y_test_pred, Z_test))\n",
    "print('Theil index', theil_index(y_test, y_test_pred))\n"
   ]
  },
  {
   "cell_type": "markdown",
   "metadata": {},
   "source": [
    "- Counterfactual"
   ]
  },
  {
   "cell_type": "code",
   "execution_count": 8,
   "metadata": {},
   "outputs": [
    {
     "name": "stdout",
     "output_type": "stream",
     "text": [
      "(100124, 32) (100124,)\n",
      "Accuracy 0.6250249690383924\n",
      "ROC 0.5518911158815594\n",
      "[0] Statistical parity [-0.00435518]\n",
      "[0] Average odds [-0.002853]\n",
      "[0] Average predictive value [-0.01978334]\n",
      "Theil index 0.4132204021170181\n",
      "----------------------\n",
      "Accuracy 0.6215044742729307\n",
      "ROC 0.5502475624798616\n",
      "[0] Statistical parity [-0.01472042]\n",
      "[0] Average odds [-0.01322206]\n",
      "[0] Average predictive value [0.00130283]\n",
      "Theil index 0.41762123723167116\n"
     ]
    }
   ],
   "source": [
    "lr_counter = CounterfactualPreProcessing(LogisticRegression(class_weight=None, max_iter=10**3), sensitive_feature_ids=sens_feature_ids)\n",
    "lr_counter.fit(X_train.values, y_train)\n",
    "\n",
    "y_train_pred = lr_counter.predict(X_train.values)\n",
    "y_test_pred = lr_counter.predict(X_test.values)\n",
    "\n",
    "print('Accuracy', accuracy_score(y_train, y_train_pred))\n",
    "print('ROC', roc_auc_score(y_train, y_train_pred))\n",
    "print('Statistical parity', statistical_parity(y_train, y_train_pred, Z_train))\n",
    "print('Average odds', average_odds(y_train, y_train_pred, Z_train))\n",
    "print('Average predictive value', average_predictive_value(y_train, y_train_pred, Z_train))\n",
    "print('Theil index', theil_index(y_train, y_train_pred))\n",
    "\n",
    "print(\"----------------------\")\n",
    "\n",
    "print('Accuracy', accuracy_score(y_test, y_test_pred))\n",
    "print('ROC', roc_auc_score(y_test, y_test_pred))\n",
    "print('Statistical parity', statistical_parity(y_test, y_test_pred, Z_test))\n",
    "print('Average odds', average_odds(y_test, y_test_pred, Z_test))\n",
    "print('Average predictive value', average_predictive_value(y_test, y_test_pred, Z_test))\n",
    "print('Theil index', theil_index(y_test, y_test_pred))\n"
   ]
  },
  {
   "cell_type": "markdown",
   "metadata": {},
   "source": [
    "### In-processing"
   ]
  },
  {
   "cell_type": "markdown",
   "metadata": {},
   "source": [
    "- Fairness mitigation"
   ]
  },
  {
   "cell_type": "code",
   "execution_count": 9,
   "metadata": {},
   "outputs": [],
   "source": [
    "Xn_train = X_train.drop([sens_variable], axis=1)\n",
    "Xn_test = X_test.drop([sens_variable], axis=1)"
   ]
  },
  {
   "cell_type": "code",
   "execution_count": 10,
   "metadata": {},
   "outputs": [
    {
     "name": "stdout",
     "output_type": "stream",
     "text": [
      "Accuracy 0.6249850185769645\n",
      "ROC 0.5518579241662116\n",
      "[0] Statistical parity [-0.00475122]\n",
      "[0] Average odds [-0.00328614]\n",
      "[0] Average predictive value [-0.01976025]\n",
      "Theil index 0.41323594808904546\n",
      "----------------------\n",
      "Accuracy 0.6215510812826249\n",
      "ROC 0.5502864518008541\n",
      "[0] Statistical parity [-0.01463283]\n",
      "[0] Average odds [-0.01314833]\n",
      "[0] Average predictive value [0.00113808]\n",
      "Theil index 0.41760316288110444\n"
     ]
    }
   ],
   "source": [
    "# Logistic Regression\n",
    "lr = LogisticRegression(class_weight=None, max_iter=10**3)\n",
    "lr.fit(Xn_train, y_train)\n",
    "\n",
    "y_train_pred = lr.predict(Xn_train)\n",
    "y_test_pred = lr.predict(Xn_test)\n",
    "\n",
    "print('Accuracy', accuracy_score(y_train, y_train_pred))\n",
    "print('ROC', roc_auc_score(y_train, y_train_pred))\n",
    "print('Statistical parity', statistical_parity(y_train, y_train_pred, Z_train))\n",
    "print('Average odds', average_odds(y_train, y_train_pred, Z_train))\n",
    "print('Average predictive value', average_predictive_value(y_train, y_train_pred, Z_train))\n",
    "print('Theil index', theil_index(y_train, y_train_pred))\n",
    "\n",
    "print(\"----------------------\")\n",
    "\n",
    "print('Accuracy', accuracy_score(y_test, y_test_pred))\n",
    "print('ROC', roc_auc_score(y_test, y_test_pred))\n",
    "print('Statistical parity', statistical_parity(y_test, y_test_pred, Z_test))\n",
    "print('Average odds', average_odds(y_test, y_test_pred, Z_test))\n",
    "print('Average predictive value', average_predictive_value(y_test, y_test_pred, Z_test))\n",
    "print('Theil index', theil_index(y_test, y_test_pred))\n"
   ]
  },
  {
   "cell_type": "code",
   "execution_count": 11,
   "metadata": {},
   "outputs": [],
   "source": [
    "# # Decision Tree\n",
    "# dt = DecisionTreeClassifier(max_depth=7, random_state=123, class_weight=None)\n",
    "# dt.fit(Xn_train, y_train)\n",
    "\n",
    "# y_train_pred = dt.predict(Xn_train)\n",
    "# y_test_pred = dt.predict(Xn_test)\n",
    "\n",
    "# print('Accuracy', accuracy_score(y_train, y_train_pred))\n",
    "# print('ROC', roc_auc_score(y_train, y_train_pred))\n",
    "# print('Statistical parity', statistical_parity(y_train, y_train_pred, Z_train))\n",
    "# print('Average odds', average_odds(y_train, y_train_pred, Z_train))\n",
    "# print('Average predictive value', average_predictive_value(y_train, y_train_pred, Z_train))\n",
    "# print('Theil index', theil_index(y_train, y_train_pred))\n"
   ]
  },
  {
   "cell_type": "markdown",
   "metadata": {},
   "source": [
    "- Counterfactual appends"
   ]
  },
  {
   "cell_type": "code",
   "execution_count": 12,
   "metadata": {},
   "outputs": [],
   "source": [
    "X_train_cf =  X_train.copy()\n",
    "X_train_cf[sens_variable] = X_train_cf[sens_variable].replace({0:1, 1:0})\n",
    "X_train_cf = pd.concat([X_train_cf, X_train])\n",
    "y_train_cf = pd.concat([y_train, y_train])\n",
    "\n",
    "X_test_cf =  X_test.copy()\n",
    "X_test_cf[sens_variable] = X_test_cf[sens_variable].replace({0:1, 1:0})\n",
    "X_test_cf = pd.concat([X_test_cf, X_test])\n",
    "y_test_cf = pd.concat([y_test, y_test])"
   ]
  },
  {
   "cell_type": "code",
   "execution_count": 13,
   "metadata": {},
   "outputs": [
    {
     "name": "stdout",
     "output_type": "stream",
     "text": [
      "Accuracy 0.6249750309616076\n",
      "ROC 0.5518920608147619\n",
      "[0] Statistical parity [-0.00488636]\n",
      "[0] Average odds [-0.00339224]\n",
      "[0] Average predictive value [-0.01944092]\n",
      "Theil index 0.41312842615755935\n",
      "----------------------\n",
      "Accuracy 0.6216209917971663\n",
      "ROC 0.5504121851951526\n",
      "[0] Statistical parity [-0.01523386]\n",
      "[0] Average odds [-0.01374838]\n",
      "[0] Average predictive value [0.00151627]\n",
      "Theil index 0.41739288432417876\n"
     ]
    }
   ],
   "source": [
    "# Logistic Regression\n",
    "lr = LogisticRegression(class_weight=None, max_iter=10**3)\n",
    "lr.fit(X_train_cf, y_train_cf)\n",
    "\n",
    "y_train_pred = lr.predict(X_train_cf)\n",
    "y_test_pred = lr.predict(X_test_cf)\n",
    "\n",
    "print('Accuracy', accuracy_score(y_train_cf, y_train_pred))\n",
    "print('ROC', roc_auc_score(y_train_cf, y_train_pred))\n",
    "print('Statistical parity', statistical_parity(y_train_cf, y_train_pred, Z_train))\n",
    "print('Average odds', average_odds(y_train_cf, y_train_pred, Z_train))\n",
    "print('Average predictive value', average_predictive_value(y_train_cf, y_train_pred, Z_train))\n",
    "print('Theil index', theil_index(y_train_cf, y_train_pred))\n",
    "\n",
    "print(\"----------------------\")\n",
    "\n",
    "print('Accuracy', accuracy_score(y_test_cf, y_test_pred))\n",
    "print('ROC', roc_auc_score(y_test_cf, y_test_pred))\n",
    "print('Statistical parity', statistical_parity(y_test_cf, y_test_pred, Z_test))\n",
    "print('Average odds', average_odds(y_test_cf, y_test_pred, Z_test))\n",
    "print('Average predictive value', average_predictive_value(y_test_cf, y_test_pred, Z_test))\n",
    "print('Theil index', theil_index(y_test_cf, y_test_pred))"
   ]
  },
  {
   "cell_type": "code",
   "execution_count": 14,
   "metadata": {},
   "outputs": [],
   "source": [
    "# # Decision Tree\n",
    "# dt = DecisionTreeClassifier(max_depth=7, random_state=123, class_weight=None)\n",
    "# dt.fit(X_train_cf, y_train_cf)\n",
    "\n",
    "# y_train_pred = dt.predict(X_train_cf)\n",
    "# y_test_pred = dt.predict(X_test_cf)\n",
    "\n",
    "# print('Accuracy', accuracy_score(y_train_cf, y_train_pred))\n",
    "# print('ROC', roc_auc_score(y_train_cf, y_train_pred))\n",
    "# print('Statistical parity', statistical_parity(y_train_cf, y_train_pred, Z_train))\n",
    "# print('Average odds', average_odds(y_train_cf, y_train_pred, Z_train))\n",
    "# print('Average predictive value', average_predictive_value(y_train_cf, y_train_pred, Z_train))\n",
    "# print('Theil index', theil_index(y_train_cf, y_train_pred))\n"
   ]
  },
  {
   "cell_type": "markdown",
   "metadata": {},
   "source": [
    "### Post-processing"
   ]
  },
  {
   "cell_type": "code",
   "execution_count": 15,
   "metadata": {},
   "outputs": [],
   "source": [
    "Z_train = X_train[sens_variable]==0\n",
    "Z_test = X_test[sens_variable]==0"
   ]
  },
  {
   "cell_type": "markdown",
   "metadata": {},
   "source": [
    "- Model"
   ]
  },
  {
   "cell_type": "code",
   "execution_count": 16,
   "metadata": {},
   "outputs": [
    {
     "name": "stdout",
     "output_type": "stream",
     "text": [
      "Accuracy 0.6260437058048021\n",
      "ROC 0.5530684943265511\n",
      "[True] Statistical parity [-0.02823257]\n",
      "[True] Average odds [-0.02776224]\n",
      "[True] Average predictive value [-0.00958463]\n",
      "Theil index 0.41195578101024366\n",
      "----------------------\n",
      "Accuracy 0.6222501864280388\n",
      "ROC 0.5515052717936609\n",
      "[True] Statistical parity [-0.03763251]\n",
      "[True] Average odds [-0.03691255]\n",
      "[True] Average predictive value [0.01194706]\n",
      "Theil index 0.41560613437135546\n"
     ]
    }
   ],
   "source": [
    "lr = LogisticRegression(class_weight=None, max_iter=10**3)\n",
    "lr.fit(X_train, y_train)\n",
    "\n",
    "y_train_pred = lr.predict(X_train)\n",
    "y_test_pred = lr.predict(X_test)\n",
    "\n",
    "print('Accuracy', accuracy_score(y_train, y_train_pred))\n",
    "print('ROC', roc_auc_score(y_train, y_train_pred))\n",
    "print('Statistical parity', statistical_parity(y_train, y_train_pred, Z_train))\n",
    "print('Average odds', average_odds(y_train, y_train_pred, Z_train))\n",
    "print('Average predictive value', average_predictive_value(y_train, y_train_pred, Z_train))\n",
    "print('Theil index', theil_index(y_train, y_train_pred))\n",
    "\n",
    "print(\"----------------------\")\n",
    "\n",
    "print('Accuracy', accuracy_score(y_test, y_test_pred))\n",
    "print('ROC', roc_auc_score(y_test, y_test_pred))\n",
    "print('Statistical parity', statistical_parity(y_test, y_test_pred, Z_test))\n",
    "print('Average odds', average_odds(y_test, y_test_pred, Z_test))\n",
    "print('Average predictive value', average_predictive_value(y_test, y_test_pred, Z_test))\n",
    "print('Theil index', theil_index(y_test, y_test_pred))"
   ]
  },
  {
   "cell_type": "markdown",
   "metadata": {},
   "source": [
    "- Optimizer"
   ]
  },
  {
   "cell_type": "code",
   "execution_count": 17,
   "metadata": {},
   "outputs": [
    {
     "name": "stdout",
     "output_type": "stream",
     "text": [
      "Accuracy 0.5784427310135432\n",
      "ROC 0.58531138351355\n",
      "[True] Statistical parity [0.00275412]\n",
      "[True] Average odds [0.0048536]\n",
      "[True] Average predictive value [-0.01879692]\n",
      "Theil index 0.22287843572520022\n",
      "----------------------\n",
      "Accuracy 0.5783463832960477\n",
      "ROC 0.5846588091394347\n",
      "[True] Statistical parity [0.01073702]\n",
      "[True] Average odds [0.01458106]\n",
      "[True] Average predictive value [-0.01342983]\n",
      "Theil index 0.22520008264753213\n"
     ]
    }
   ],
   "source": [
    "postprocess_est = ThresholdOptimizer(\n",
    "    estimator=lr,\n",
    "    constraints=\"false_negative_rate_parity\",\n",
    "    objective=\"balanced_accuracy_score\",\n",
    "    prefit=True,\n",
    "    predict_method='predict_proba')\n",
    "postprocess_est.fit(X_train, y_train, sensitive_features=Z_train)\n",
    "\n",
    "y_train_pred = postprocess_est.predict(X_train, sensitive_features=Z_train)\n",
    "y_test_pred = postprocess_est.predict(X_test, sensitive_features=Z_test)\n",
    "\n",
    "\n",
    "print('Accuracy', accuracy_score(y_train, y_train_pred))\n",
    "print('ROC', roc_auc_score(y_train, y_train_pred))\n",
    "print('Statistical parity', statistical_parity(y_train, y_train_pred, Z_train))\n",
    "print('Average odds', average_odds(y_train, y_train_pred, Z_train))\n",
    "print('Average predictive value', average_predictive_value(y_train, y_train_pred, Z_train))\n",
    "print('Theil index', theil_index(y_train, y_train_pred))\n",
    "\n",
    "print(\"----------------------\")\n",
    "\n",
    "print('Accuracy', accuracy_score(y_test, y_test_pred))\n",
    "print('ROC', roc_auc_score(y_test, y_test_pred))\n",
    "print('Statistical parity', statistical_parity(y_test, y_test_pred, Z_test))\n",
    "print('Average odds', average_odds(y_test, y_test_pred, Z_test))\n",
    "print('Average predictive value', average_predictive_value(y_test, y_test_pred, Z_test))\n",
    "print('Theil index', theil_index(y_test, y_test_pred))"
   ]
  }
 ],
 "metadata": {
  "kernelspec": {
   "display_name": "Python 3.10.6 ('.venv': venv)",
   "language": "python",
   "name": "python3"
  },
  "language_info": {
   "codemirror_mode": {
    "name": "ipython",
    "version": 3
   },
   "file_extension": ".py",
   "mimetype": "text/x-python",
   "name": "python",
   "nbconvert_exporter": "python",
   "pygments_lexer": "ipython3",
   "version": "3.10.6"
  },
  "orig_nbformat": 4,
  "vscode": {
   "interpreter": {
    "hash": "ba363466a84ca2fd1146c479e2c2f28c50f1013d99db02a332d42bb19347cbd7"
   }
  }
 },
 "nbformat": 4,
 "nbformat_minor": 2
}
