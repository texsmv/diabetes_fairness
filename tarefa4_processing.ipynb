{
 "cells": [
  {
   "cell_type": "markdown",
   "metadata": {},
   "source": [
    "## Fairness processing"
   ]
  },
  {
   "cell_type": "code",
   "execution_count": 1,
   "metadata": {},
   "outputs": [],
   "source": [
    "from sklearn.model_selection import train_test_split\n",
    "from sklearn.tree import DecisionTreeClassifier\n",
    "from sklearn.linear_model import LogisticRegression\n",
    "from sklearn.metrics import accuracy_score\n",
    "\n",
    "from sklego.linear_model import EqualOpportunityClassifier\n",
    "from fairlearn.postprocessing import ThresholdOptimizer\n",
    "\n",
    "from utils import read_diabetes_dataset\n",
    "from utils import statistical_parity\n",
    "from utils import average_odds\n",
    "from utils import average_predictive_value\n",
    "from utils import theil_index\n",
    "\n",
    "import pandas as pd\n",
    "import numpy as np"
   ]
  },
  {
   "cell_type": "markdown",
   "metadata": {},
   "source": [
    "### Dataset"
   ]
  },
  {
   "cell_type": "code",
   "execution_count": 2,
   "metadata": {},
   "outputs": [],
   "source": [
    "X, y = read_diabetes_dataset(binary=True)\n",
    "\n",
    "X_train, X_valtest, y_train, y_valtest = train_test_split(\n",
    "    X, y, test_size=0.3, random_state=101)\n",
    "X_val, X_test, y_val, y_test = train_test_split(\n",
    "    X_valtest, y_valtest, test_size=0.5, random_state=101)\n"
   ]
  },
  {
   "cell_type": "code",
   "execution_count": 3,
   "metadata": {},
   "outputs": [],
   "source": [
    "# Male: 1, Female: 0\n",
    "sens_variable = 'gender'\n",
    "\n",
    "Z_train = X_train[sens_variable]\n",
    "Z_test = X_test[sens_variable]\n",
    "Z_val = X_val[sens_variable]\n",
    "\n",
    "# sens_columns = ['race_AfricanAmerican', 'race_Asian', 'race_Caucasian', 'race_Hispanic','race_Other']\n",
    "# Z_train = np.argmax(X_train[sens_columns].values, axis=1)\n",
    "# Z_test = np.argmax(X_test[sens_columns].values, axis=1)\n",
    "# Z_val = np.argmax(X_val[sens_columns].values, axis=1)"
   ]
  },
  {
   "cell_type": "markdown",
   "metadata": {},
   "source": [
    "### In-processing"
   ]
  },
  {
   "cell_type": "markdown",
   "metadata": {},
   "source": [
    "- Without mitigation"
   ]
  },
  {
   "cell_type": "code",
   "execution_count": 4,
   "metadata": {},
   "outputs": [
    {
     "name": "stdout",
     "output_type": "stream",
     "text": [
      "Accuracy 0.6397467140745475\n",
      "[0] Statistical parity [-0.01037807]\n",
      "[0] Average odds [-0.00827762]\n",
      "[0] Average predictive value [-0.01807308]\n",
      "Theil index 0.3658010370394916\n"
     ]
    }
   ],
   "source": [
    "# Decision Tree\n",
    "dt = DecisionTreeClassifier(max_depth=7, random_state=123, class_weight=None)\n",
    "dt.fit(X_train, y_train)\n",
    "\n",
    "y_train_pred = dt.predict(X_train)\n",
    "\n",
    "print('Accuracy', accuracy_score(y_train, y_train_pred))\n",
    "print('Statistical parity', statistical_parity(y_train, y_train_pred, Z_train))\n",
    "print('Average odds', average_odds(y_train, y_train_pred, Z_train))\n",
    "print('Average predictive value', average_predictive_value(y_train, y_train_pred, Z_train))\n",
    "print('Theil index', theil_index(y_train, y_train_pred))\n"
   ]
  },
  {
   "cell_type": "code",
   "execution_count": 5,
   "metadata": {},
   "outputs": [
    {
     "name": "stdout",
     "output_type": "stream",
     "text": [
      "Accuracy 0.6260437058048021\n",
      "[0] Statistical parity [-0.02823257]\n",
      "[0] Average odds [-0.02776224]\n",
      "[0] Average predictive value [-0.00958463]\n",
      "Theil index 0.41195578101024366\n"
     ]
    }
   ],
   "source": [
    "# Logistic Regression\n",
    "lr = LogisticRegression(class_weight=None, max_iter=10**3)\n",
    "lr.fit(X_train, y_train)\n",
    "\n",
    "y_train_pred = lr.predict(X_train)\n",
    "\n",
    "print('Accuracy', accuracy_score(y_train, y_train_pred))\n",
    "print('Statistical parity', statistical_parity(y_train, y_train_pred, Z_train))\n",
    "print('Average odds', average_odds(y_train, y_train_pred, Z_train))\n",
    "print('Average predictive value', average_predictive_value(y_train, y_train_pred, Z_train))\n",
    "print('Theil index', theil_index(y_train, y_train_pred))\n"
   ]
  },
  {
   "cell_type": "markdown",
   "metadata": {},
   "source": [
    "- Fairness mitigation"
   ]
  },
  {
   "cell_type": "code",
   "execution_count": 6,
   "metadata": {},
   "outputs": [],
   "source": [
    "Xn_train = X_train.drop([sens_variable], axis=1)"
   ]
  },
  {
   "cell_type": "code",
   "execution_count": 7,
   "metadata": {},
   "outputs": [
    {
     "name": "stdout",
     "output_type": "stream",
     "text": [
      "Accuracy 0.6397467140745475\n",
      "[0] Statistical parity [-0.01029785]\n",
      "[0] Average odds [-0.00821108]\n",
      "[0] Average predictive value [-0.01818144]\n",
      "Theil index 0.3658010370394915\n"
     ]
    }
   ],
   "source": [
    "# Decision Tree\n",
    "dt = DecisionTreeClassifier(max_depth=7, random_state=123, class_weight=None)\n",
    "dt.fit(Xn_train, y_train)\n",
    "\n",
    "y_train_pred = dt.predict(Xn_train)\n",
    "\n",
    "print('Accuracy', accuracy_score(y_train, y_train_pred))\n",
    "print('Statistical parity', statistical_parity(y_train, y_train_pred, Z_train))\n",
    "print('Average odds', average_odds(y_train, y_train_pred, Z_train))\n",
    "print('Average predictive value', average_predictive_value(y_train, y_train_pred, Z_train))\n",
    "print('Theil index', theil_index(y_train, y_train_pred))\n"
   ]
  },
  {
   "cell_type": "code",
   "execution_count": 8,
   "metadata": {},
   "outputs": [
    {
     "name": "stdout",
     "output_type": "stream",
     "text": [
      "Accuracy 0.6249850185769645\n",
      "[0] Statistical parity [-0.00475122]\n",
      "[0] Average odds [-0.00328614]\n",
      "[0] Average predictive value [-0.01976025]\n",
      "Theil index 0.41323594808904546\n"
     ]
    }
   ],
   "source": [
    "# Logistic Regression\n",
    "lr = LogisticRegression(class_weight=None, max_iter=10**3)\n",
    "lr.fit(Xn_train, y_train)\n",
    "\n",
    "y_train_pred = lr.predict(Xn_train)\n",
    "\n",
    "print('Accuracy', accuracy_score(y_train, y_train_pred))\n",
    "print('Statistical parity', statistical_parity(y_train, y_train_pred, Z_train))\n",
    "print('Average odds', average_odds(y_train, y_train_pred, Z_train))\n",
    "print('Average predictive value', average_predictive_value(y_train, y_train_pred, Z_train))\n",
    "print('Theil index', theil_index(y_train, y_train_pred))\n"
   ]
  },
  {
   "cell_type": "markdown",
   "metadata": {},
   "source": [
    "- Counterfactual appends"
   ]
  },
  {
   "cell_type": "code",
   "execution_count": 9,
   "metadata": {},
   "outputs": [],
   "source": [
    "X_train_cf =  X_train.copy()\n",
    "X_train_cf[sens_variable] = X_train_cf[sens_variable].replace({0:1, 1:0})\n",
    "X_train_cf = pd.concat([X_train_cf, X_train])\n",
    "y_train_cf = pd.concat([y_train, y_train])"
   ]
  },
  {
   "cell_type": "code",
   "execution_count": 10,
   "metadata": {},
   "outputs": [
    {
     "name": "stdout",
     "output_type": "stream",
     "text": [
      "Accuracy 0.6397467140745475\n",
      "[0] Statistical parity [-0.01037807]\n",
      "[0] Average odds [-0.00827762]\n",
      "[0] Average predictive value [-0.01807308]\n",
      "Theil index 0.3658010370394915\n"
     ]
    }
   ],
   "source": [
    "# Decision Tree\n",
    "dt = DecisionTreeClassifier(max_depth=7, random_state=123, class_weight=None)\n",
    "dt.fit(X_train_cf, y_train_cf)\n",
    "\n",
    "y_train_pred = dt.predict(X_train_cf)\n",
    "\n",
    "print('Accuracy', accuracy_score(y_train_cf, y_train_pred))\n",
    "print('Statistical parity', statistical_parity(y_train_cf, y_train_pred, Z_train))\n",
    "print('Average odds', average_odds(y_train_cf, y_train_pred, Z_train))\n",
    "print('Average predictive value', average_predictive_value(y_train_cf, y_train_pred, Z_train))\n",
    "print('Theil index', theil_index(y_train_cf, y_train_pred))\n"
   ]
  },
  {
   "cell_type": "code",
   "execution_count": 11,
   "metadata": {},
   "outputs": [
    {
     "name": "stdout",
     "output_type": "stream",
     "text": [
      "Accuracy 0.6249750309616076\n",
      "[0] Statistical parity [-0.00488636]\n",
      "[0] Average odds [-0.00339224]\n",
      "[0] Average predictive value [-0.01944092]\n",
      "Theil index 0.41312842615755935\n"
     ]
    }
   ],
   "source": [
    "# Logistic Regression\n",
    "lr = LogisticRegression(class_weight=None, max_iter=10**3)\n",
    "lr.fit(X_train_cf, y_train_cf)\n",
    "\n",
    "y_train_pred = lr.predict(X_train_cf)\n",
    "\n",
    "print('Accuracy', accuracy_score(y_train_cf, y_train_pred))\n",
    "print('Statistical parity', statistical_parity(y_train_cf, y_train_pred, Z_train))\n",
    "print('Average odds', average_odds(y_train_cf, y_train_pred, Z_train))\n",
    "print('Average predictive value', average_predictive_value(y_train_cf, y_train_pred, Z_train))\n",
    "print('Theil index', theil_index(y_train_cf, y_train_pred))\n"
   ]
  },
  {
   "cell_type": "markdown",
   "metadata": {},
   "source": [
    "### Post-processing"
   ]
  },
  {
   "cell_type": "markdown",
   "metadata": {},
   "source": [
    "- Model"
   ]
  },
  {
   "cell_type": "code",
   "execution_count": 12,
   "metadata": {},
   "outputs": [
    {
     "name": "stdout",
     "output_type": "stream",
     "text": [
      "Accuracy 0.6397467140745475\n",
      "[True] Statistical parity [-0.01037807]\n",
      "[True] Average odds [-0.00827762]\n",
      "[True] Average predictive value [-0.01807308]\n",
      "Theil index 0.3658010370394916\n"
     ]
    }
   ],
   "source": [
    "# Decision Tree\n",
    "dt = DecisionTreeClassifier(max_depth=7, random_state=123, class_weight=None)\n",
    "dt.fit(X_train, y_train)\n",
    "\n",
    "Z_train = X_train[sens_variable]==0\n",
    "y_train_pred = dt.predict(X_train)\n",
    "\n",
    "print('Accuracy', accuracy_score(y_train, y_train_pred))\n",
    "print('Statistical parity', statistical_parity(y_train, y_train_pred, Z_train))\n",
    "print('Average odds', average_odds(y_train, y_train_pred, Z_train))\n",
    "print('Average predictive value', average_predictive_value(y_train, y_train_pred, Z_train))\n",
    "print('Theil index', theil_index(y_train, y_train_pred))\n"
   ]
  },
  {
   "cell_type": "code",
   "execution_count": 13,
   "metadata": {},
   "outputs": [],
   "source": [
    "postprocess_est = ThresholdOptimizer(\n",
    "    estimator=dt,\n",
    "    constraints=\"false_negative_rate_parity\",\n",
    "    objective=\"balanced_accuracy_score\",\n",
    "    prefit=True,\n",
    "    predict_method='predict_proba')\n",
    "postprocess_est.fit(X_train, y_train, sensitive_features=Z_train)\n",
    "y_train_pred = postprocess_est.predict(X_train, sensitive_features=Z_train)\n"
   ]
  },
  {
   "cell_type": "code",
   "execution_count": 14,
   "metadata": {},
   "outputs": [
    {
     "name": "stdout",
     "output_type": "stream",
     "text": [
      "Accuracy 0.6015940234109703\n",
      "[True] Statistical parity [0.00161892]\n",
      "[True] Average odds [0.0042884]\n",
      "[True] Average predictive value [-0.01910855]\n",
      "Theil index 0.22769817789195285\n"
     ]
    }
   ],
   "source": [
    "print('Accuracy', accuracy_score(y_train, y_train_pred))\n",
    "print('Statistical parity', statistical_parity(y_train, y_train_pred, Z_train))\n",
    "print('Average odds', average_odds(y_train, y_train_pred, Z_train))\n",
    "print('Average predictive value', average_predictive_value(y_train, y_train_pred, Z_train))\n",
    "print('Theil index', theil_index(y_train, y_train_pred))\n"
   ]
  }
 ],
 "metadata": {
  "kernelspec": {
   "display_name": "Python 3.10.6 ('.venv': venv)",
   "language": "python",
   "name": "python3"
  },
  "language_info": {
   "codemirror_mode": {
    "name": "ipython",
    "version": 3
   },
   "file_extension": ".py",
   "mimetype": "text/x-python",
   "name": "python",
   "nbconvert_exporter": "python",
   "pygments_lexer": "ipython3",
   "version": "3.10.6"
  },
  "orig_nbformat": 4,
  "vscode": {
   "interpreter": {
    "hash": "b22856568f273c50d26b3f264176e92592b5c9c890a1dee2575963e574ed9daf"
   }
  }
 },
 "nbformat": 4,
 "nbformat_minor": 2
}
