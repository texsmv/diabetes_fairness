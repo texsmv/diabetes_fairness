{
 "cells": [
  {
   "cell_type": "markdown",
   "metadata": {},
   "source": [
    "## Fairness processing"
   ]
  },
  {
   "cell_type": "code",
   "execution_count": 22,
   "metadata": {},
   "outputs": [],
   "source": [
    "from sklearn.model_selection import train_test_split\n",
    "from sklearn.tree import DecisionTreeClassifier\n",
    "from sklearn.linear_model import LogisticRegression\n",
    "from sklearn.metrics import accuracy_score\n",
    "\n",
    "from sklego.linear_model import EqualOpportunityClassifier\n",
    "\n",
    "from utils import read_diabetes_dataset\n",
    "from utils import statistical_parity\n",
    "from utils import average_odds\n",
    "from utils import average_predictive_value\n",
    "from utils import theil_index\n",
    "\n",
    "import pandas as pd"
   ]
  },
  {
   "cell_type": "markdown",
   "metadata": {},
   "source": [
    "### Dataset"
   ]
  },
  {
   "cell_type": "code",
   "execution_count": 2,
   "metadata": {},
   "outputs": [],
   "source": [
    "X, y = read_diabetes_dataset(binary=True)\n",
    "\n",
    "X_train, X_valtest, y_train, y_valtest = train_test_split(\n",
    "    X, y, test_size=0.3, random_state=101)\n",
    "X_val, X_test, y_val, y_test = train_test_split(\n",
    "    X_valtest, y_valtest, test_size=0.5, random_state=101)\n"
   ]
  },
  {
   "cell_type": "code",
   "execution_count": 3,
   "metadata": {},
   "outputs": [
    {
     "data": {
      "text/plain": [
       "0    38028\n",
       "1    33490\n",
       "Name: gender, dtype: int64"
      ]
     },
     "execution_count": 3,
     "metadata": {},
     "output_type": "execute_result"
    }
   ],
   "source": [
    "# Male: 1, Female: 0\n",
    "sens_variable = 'gender'\n",
    "\n",
    "Z_train = X_train[sens_variable]\n",
    "Z_test = X_test[sens_variable]\n",
    "Z_val = X_val[sens_variable]\n",
    "\n",
    "X['gender'].value_counts()"
   ]
  },
  {
   "cell_type": "markdown",
   "metadata": {},
   "source": [
    "### In-processing"
   ]
  },
  {
   "cell_type": "markdown",
   "metadata": {},
   "source": [
    "- Without mitigation"
   ]
  },
  {
   "cell_type": "code",
   "execution_count": 4,
   "metadata": {},
   "outputs": [
    {
     "name": "stdout",
     "output_type": "stream",
     "text": [
      "Accuracy 0.6397467140745475\n",
      "[0] Statistical parity [-0.01037807]\n",
      "[0] Average odds [-0.00827762]\n",
      "[0] Average predictive value [-0.01807308]\n",
      "Theil index 0.3658010370394916\n"
     ]
    }
   ],
   "source": [
    "# Decision Tree\n",
    "dt = DecisionTreeClassifier(max_depth=7, random_state=123, class_weight=None)\n",
    "dt.fit(X_train, y_train)\n",
    "\n",
    "y_train_pred = dt.predict(X_train)\n",
    "\n",
    "print('Accuracy', accuracy_score(y_train, y_train_pred))\n",
    "print('Statistical parity', statistical_parity(y_train, y_train_pred, Z_train))\n",
    "print('Average odds', average_odds(y_train, y_train_pred, Z_train))\n",
    "print('Average predictive value', average_predictive_value(y_train, y_train_pred, Z_train))\n",
    "print('Theil index', theil_index(y_train, y_train_pred))\n"
   ]
  },
  {
   "cell_type": "code",
   "execution_count": 5,
   "metadata": {},
   "outputs": [
    {
     "name": "stdout",
     "output_type": "stream",
     "text": [
      "Accuracy 0.6260636810355159\n",
      "[0] Statistical parity [-0.02832001]\n",
      "[0] Average odds [-0.02780472]\n",
      "[0] Average predictive value [-0.00921451]\n",
      "Theil index 0.41179237131693625\n"
     ]
    }
   ],
   "source": [
    "# Logistic Regression\n",
    "lr = LogisticRegression(class_weight=None, max_iter=10**3)\n",
    "lr.fit(X_train, y_train)\n",
    "\n",
    "y_train_pred = lr.predict(X_train)\n",
    "\n",
    "print('Accuracy', accuracy_score(y_train, y_train_pred))\n",
    "print('Statistical parity', statistical_parity(y_train, y_train_pred, Z_train))\n",
    "print('Average odds', average_odds(y_train, y_train_pred, Z_train))\n",
    "print('Average predictive value', average_predictive_value(y_train, y_train_pred, Z_train))\n",
    "print('Theil index', theil_index(y_train, y_train_pred))\n"
   ]
  },
  {
   "cell_type": "markdown",
   "metadata": {},
   "source": [
    "- Fairness mitigation"
   ]
  },
  {
   "cell_type": "code",
   "execution_count": 11,
   "metadata": {},
   "outputs": [],
   "source": [
    "Xn_train = X_train.drop(['gender'], axis=1)"
   ]
  },
  {
   "cell_type": "code",
   "execution_count": 12,
   "metadata": {},
   "outputs": [
    {
     "name": "stdout",
     "output_type": "stream",
     "text": [
      "Accuracy 0.6397467140745475\n",
      "[0] Statistical parity [-0.01029785]\n",
      "[0] Average odds [-0.00821108]\n",
      "[0] Average predictive value [-0.01818144]\n",
      "Theil index 0.3658010370394915\n"
     ]
    }
   ],
   "source": [
    "# Decision Tree\n",
    "dt = DecisionTreeClassifier(max_depth=7, random_state=123, class_weight=None)\n",
    "dt.fit(Xn_train, y_train)\n",
    "\n",
    "y_train_pred = dt.predict(Xn_train)\n",
    "\n",
    "print('Accuracy', accuracy_score(y_train, y_train_pred))\n",
    "print('Statistical parity', statistical_parity(y_train, y_train_pred, Z_train))\n",
    "print('Average odds', average_odds(y_train, y_train_pred, Z_train))\n",
    "print('Average predictive value', average_predictive_value(y_train, y_train_pred, Z_train))\n",
    "print('Theil index', theil_index(y_train, y_train_pred))\n"
   ]
  },
  {
   "cell_type": "code",
   "execution_count": 13,
   "metadata": {},
   "outputs": [
    {
     "name": "stdout",
     "output_type": "stream",
     "text": [
      "Accuracy 0.6250649194998202\n",
      "[0] Statistical parity [-0.00432988]\n",
      "[0] Average odds [-0.00288958]\n",
      "[0] Average predictive value [-0.02029358]\n",
      "Theil index 0.41307119582627405\n"
     ]
    }
   ],
   "source": [
    "# Logistic Regression\n",
    "lr = LogisticRegression(class_weight=None, max_iter=10**3)\n",
    "lr.fit(Xn_train, y_train)\n",
    "\n",
    "y_train_pred = lr.predict(Xn_train)\n",
    "\n",
    "print('Accuracy', accuracy_score(y_train, y_train_pred))\n",
    "print('Statistical parity', statistical_parity(y_train, y_train_pred, Z_train))\n",
    "print('Average odds', average_odds(y_train, y_train_pred, Z_train))\n",
    "print('Average predictive value', average_predictive_value(y_train, y_train_pred, Z_train))\n",
    "print('Theil index', theil_index(y_train, y_train_pred))\n"
   ]
  },
  {
   "cell_type": "markdown",
   "metadata": {},
   "source": [
    "- Counterfactual appends"
   ]
  },
  {
   "cell_type": "code",
   "execution_count": 15,
   "metadata": {},
   "outputs": [],
   "source": [
    "X_train_cf =  X_train.copy()\n",
    "X_train_cf['gender'] = X_train_cf['gender'].replace({0:1, 1:0})\n",
    "X_train_cf = pd.concat([X_train_cf, X_train])\n",
    "y_train_cf = pd.concat([y_train, y_train])"
   ]
  },
  {
   "cell_type": "code",
   "execution_count": 20,
   "metadata": {},
   "outputs": [
    {
     "name": "stdout",
     "output_type": "stream",
     "text": [
      "Accuracy 0.6397467140745475\n",
      "[0] Statistical parity [-0.01037807]\n",
      "[0] Average odds [-0.00827762]\n",
      "[0] Average predictive value [-0.01807308]\n",
      "Theil index 0.3658010370394915\n"
     ]
    }
   ],
   "source": [
    "# Decision Tree\n",
    "dt = DecisionTreeClassifier(max_depth=7, random_state=123, class_weight=None)\n",
    "dt.fit(X_train_cf, y_train_cf)\n",
    "\n",
    "y_train_pred = dt.predict(X_train_cf)\n",
    "\n",
    "print('Accuracy', accuracy_score(y_train_cf, y_train_pred))\n",
    "print('Statistical parity', statistical_parity(y_train_cf, y_train_pred, Z_train))\n",
    "print('Average odds', average_odds(y_train_cf, y_train_pred, Z_train))\n",
    "print('Average predictive value', average_predictive_value(y_train_cf, y_train_pred, Z_train))\n",
    "print('Theil index', theil_index(y_train_cf, y_train_pred))\n"
   ]
  },
  {
   "cell_type": "code",
   "execution_count": 21,
   "metadata": {},
   "outputs": [
    {
     "name": "stdout",
     "output_type": "stream",
     "text": [
      "Accuracy 0.6249650433462507\n",
      "[0] Statistical parity [-0.00422726]\n",
      "[0] Average odds [-0.00273393]\n",
      "[0] Average predictive value [-0.01992455]\n",
      "Theil index 0.41324371932227494\n"
     ]
    }
   ],
   "source": [
    "# Logistic Regression\n",
    "lr = LogisticRegression(class_weight=None, max_iter=10**3)\n",
    "lr.fit(X_train_cf, y_train_cf)\n",
    "\n",
    "y_train_pred = lr.predict(X_train_cf)\n",
    "\n",
    "print('Accuracy', accuracy_score(y_train_cf, y_train_pred))\n",
    "print('Statistical parity', statistical_parity(y_train_cf, y_train_pred, Z_train))\n",
    "print('Average odds', average_odds(y_train_cf, y_train_pred, Z_train))\n",
    "print('Average predictive value', average_predictive_value(y_train_cf, y_train_pred, Z_train))\n",
    "print('Theil index', theil_index(y_train_cf, y_train_pred))\n"
   ]
  },
  {
   "cell_type": "markdown",
   "metadata": {},
   "source": [
    "- Optimization"
   ]
  },
  {
   "cell_type": "code",
   "execution_count": 34,
   "metadata": {},
   "outputs": [
    {
     "data": {
      "text/plain": [
       "array([[0],\n",
       "       [1],\n",
       "       [0],\n",
       "       ...,\n",
       "       [0],\n",
       "       [0],\n",
       "       [0]])"
      ]
     },
     "execution_count": 34,
     "metadata": {},
     "output_type": "execute_result"
    }
   ],
   "source": [
    "y_train_v = y_train.values\n",
    "y_train_v.shape = (y_train_v.shape[0], 1)"
   ]
  },
  {
   "cell_type": "code",
   "execution_count": 33,
   "metadata": {},
   "outputs": [
    {
     "ename": "TypeError",
     "evalue": "argument of type 'int' is not iterable",
     "output_type": "error",
     "traceback": [
      "\u001b[0;31m---------------------------------------------------------------------------\u001b[0m",
      "\u001b[0;31mTypeError\u001b[0m                                 Traceback (most recent call last)",
      "Cell \u001b[0;32mIn[33], line 5\u001b[0m\n\u001b[1;32m      2\u001b[0m covariance_threshold \u001b[39m=\u001b[39m \u001b[39m0.000001\u001b[39m\n\u001b[1;32m      4\u001b[0m model \u001b[39m=\u001b[39m EqualOpportunityClassifier(sensitive_cols\u001b[39m=\u001b[39m\u001b[39m0\u001b[39m, positive_target\u001b[39m=\u001b[39m\u001b[39mTrue\u001b[39;00m, covariance_threshold\u001b[39m=\u001b[39mcovariance_threshold, C\u001b[39m=\u001b[39mC, max_iter\u001b[39m=\u001b[39m\u001b[39m10\u001b[39m\u001b[39m*\u001b[39m\u001b[39m*\u001b[39m\u001b[39m5\u001b[39m)\n\u001b[0;32m----> 5\u001b[0m model\u001b[39m.\u001b[39;49mfit(X_train, y_train)\n",
      "File \u001b[0;32m~/University/Unicamp/Teams/MO416/diabetes_fairness/.venv/lib/python3.10/site-packages/sklearn/multiclass.py:327\u001b[0m, in \u001b[0;36mOneVsRestClassifier.fit\u001b[0;34m(self, X, y)\u001b[0m\n\u001b[1;32m    323\u001b[0m columns \u001b[39m=\u001b[39m (col\u001b[39m.\u001b[39mtoarray()\u001b[39m.\u001b[39mravel() \u001b[39mfor\u001b[39;00m col \u001b[39min\u001b[39;00m Y\u001b[39m.\u001b[39mT)\n\u001b[1;32m    324\u001b[0m \u001b[39m# In cases where individual estimators are very fast to train setting\u001b[39;00m\n\u001b[1;32m    325\u001b[0m \u001b[39m# n_jobs > 1 in can results in slower performance due to the overhead\u001b[39;00m\n\u001b[1;32m    326\u001b[0m \u001b[39m# of spawning threads.  See joblib issue #112.\u001b[39;00m\n\u001b[0;32m--> 327\u001b[0m \u001b[39mself\u001b[39m\u001b[39m.\u001b[39mestimators_ \u001b[39m=\u001b[39m Parallel(n_jobs\u001b[39m=\u001b[39;49m\u001b[39mself\u001b[39;49m\u001b[39m.\u001b[39;49mn_jobs, verbose\u001b[39m=\u001b[39;49m\u001b[39mself\u001b[39;49m\u001b[39m.\u001b[39;49mverbose)(\n\u001b[1;32m    328\u001b[0m     delayed(_fit_binary)(\n\u001b[1;32m    329\u001b[0m         \u001b[39mself\u001b[39;49m\u001b[39m.\u001b[39;49mestimator,\n\u001b[1;32m    330\u001b[0m         X,\n\u001b[1;32m    331\u001b[0m         column,\n\u001b[1;32m    332\u001b[0m         classes\u001b[39m=\u001b[39;49m[\n\u001b[1;32m    333\u001b[0m             \u001b[39m\"\u001b[39;49m\u001b[39mnot \u001b[39;49m\u001b[39m%s\u001b[39;49;00m\u001b[39m\"\u001b[39;49m \u001b[39m%\u001b[39;49m \u001b[39mself\u001b[39;49m\u001b[39m.\u001b[39;49mlabel_binarizer_\u001b[39m.\u001b[39;49mclasses_[i],\n\u001b[1;32m    334\u001b[0m             \u001b[39mself\u001b[39;49m\u001b[39m.\u001b[39;49mlabel_binarizer_\u001b[39m.\u001b[39;49mclasses_[i],\n\u001b[1;32m    335\u001b[0m         ],\n\u001b[1;32m    336\u001b[0m     )\n\u001b[1;32m    337\u001b[0m     \u001b[39mfor\u001b[39;49;00m i, column \u001b[39min\u001b[39;49;00m \u001b[39menumerate\u001b[39;49m(columns)\n\u001b[1;32m    338\u001b[0m )\n\u001b[1;32m    340\u001b[0m \u001b[39mif\u001b[39;00m \u001b[39mhasattr\u001b[39m(\u001b[39mself\u001b[39m\u001b[39m.\u001b[39mestimators_[\u001b[39m0\u001b[39m], \u001b[39m\"\u001b[39m\u001b[39mn_features_in_\u001b[39m\u001b[39m\"\u001b[39m):\n\u001b[1;32m    341\u001b[0m     \u001b[39mself\u001b[39m\u001b[39m.\u001b[39mn_features_in_ \u001b[39m=\u001b[39m \u001b[39mself\u001b[39m\u001b[39m.\u001b[39mestimators_[\u001b[39m0\u001b[39m]\u001b[39m.\u001b[39mn_features_in_\n",
      "File \u001b[0;32m~/University/Unicamp/Teams/MO416/diabetes_fairness/.venv/lib/python3.10/site-packages/joblib/parallel.py:1085\u001b[0m, in \u001b[0;36mParallel.__call__\u001b[0;34m(self, iterable)\u001b[0m\n\u001b[1;32m   1076\u001b[0m \u001b[39mtry\u001b[39;00m:\n\u001b[1;32m   1077\u001b[0m     \u001b[39m# Only set self._iterating to True if at least a batch\u001b[39;00m\n\u001b[1;32m   1078\u001b[0m     \u001b[39m# was dispatched. In particular this covers the edge\u001b[39;00m\n\u001b[0;32m   (...)\u001b[0m\n\u001b[1;32m   1082\u001b[0m     \u001b[39m# was very quick and its callback already dispatched all the\u001b[39;00m\n\u001b[1;32m   1083\u001b[0m     \u001b[39m# remaining jobs.\u001b[39;00m\n\u001b[1;32m   1084\u001b[0m     \u001b[39mself\u001b[39m\u001b[39m.\u001b[39m_iterating \u001b[39m=\u001b[39m \u001b[39mFalse\u001b[39;00m\n\u001b[0;32m-> 1085\u001b[0m     \u001b[39mif\u001b[39;00m \u001b[39mself\u001b[39;49m\u001b[39m.\u001b[39;49mdispatch_one_batch(iterator):\n\u001b[1;32m   1086\u001b[0m         \u001b[39mself\u001b[39m\u001b[39m.\u001b[39m_iterating \u001b[39m=\u001b[39m \u001b[39mself\u001b[39m\u001b[39m.\u001b[39m_original_iterator \u001b[39mis\u001b[39;00m \u001b[39mnot\u001b[39;00m \u001b[39mNone\u001b[39;00m\n\u001b[1;32m   1088\u001b[0m     \u001b[39mwhile\u001b[39;00m \u001b[39mself\u001b[39m\u001b[39m.\u001b[39mdispatch_one_batch(iterator):\n",
      "File \u001b[0;32m~/University/Unicamp/Teams/MO416/diabetes_fairness/.venv/lib/python3.10/site-packages/joblib/parallel.py:901\u001b[0m, in \u001b[0;36mParallel.dispatch_one_batch\u001b[0;34m(self, iterator)\u001b[0m\n\u001b[1;32m    899\u001b[0m     \u001b[39mreturn\u001b[39;00m \u001b[39mFalse\u001b[39;00m\n\u001b[1;32m    900\u001b[0m \u001b[39melse\u001b[39;00m:\n\u001b[0;32m--> 901\u001b[0m     \u001b[39mself\u001b[39;49m\u001b[39m.\u001b[39;49m_dispatch(tasks)\n\u001b[1;32m    902\u001b[0m     \u001b[39mreturn\u001b[39;00m \u001b[39mTrue\u001b[39;00m\n",
      "File \u001b[0;32m~/University/Unicamp/Teams/MO416/diabetes_fairness/.venv/lib/python3.10/site-packages/joblib/parallel.py:819\u001b[0m, in \u001b[0;36mParallel._dispatch\u001b[0;34m(self, batch)\u001b[0m\n\u001b[1;32m    817\u001b[0m \u001b[39mwith\u001b[39;00m \u001b[39mself\u001b[39m\u001b[39m.\u001b[39m_lock:\n\u001b[1;32m    818\u001b[0m     job_idx \u001b[39m=\u001b[39m \u001b[39mlen\u001b[39m(\u001b[39mself\u001b[39m\u001b[39m.\u001b[39m_jobs)\n\u001b[0;32m--> 819\u001b[0m     job \u001b[39m=\u001b[39m \u001b[39mself\u001b[39;49m\u001b[39m.\u001b[39;49m_backend\u001b[39m.\u001b[39;49mapply_async(batch, callback\u001b[39m=\u001b[39;49mcb)\n\u001b[1;32m    820\u001b[0m     \u001b[39m# A job can complete so quickly than its callback is\u001b[39;00m\n\u001b[1;32m    821\u001b[0m     \u001b[39m# called before we get here, causing self._jobs to\u001b[39;00m\n\u001b[1;32m    822\u001b[0m     \u001b[39m# grow. To ensure correct results ordering, .insert is\u001b[39;00m\n\u001b[1;32m    823\u001b[0m     \u001b[39m# used (rather than .append) in the following line\u001b[39;00m\n\u001b[1;32m    824\u001b[0m     \u001b[39mself\u001b[39m\u001b[39m.\u001b[39m_jobs\u001b[39m.\u001b[39minsert(job_idx, job)\n",
      "File \u001b[0;32m~/University/Unicamp/Teams/MO416/diabetes_fairness/.venv/lib/python3.10/site-packages/joblib/_parallel_backends.py:208\u001b[0m, in \u001b[0;36mSequentialBackend.apply_async\u001b[0;34m(self, func, callback)\u001b[0m\n\u001b[1;32m    206\u001b[0m \u001b[39mdef\u001b[39;00m \u001b[39mapply_async\u001b[39m(\u001b[39mself\u001b[39m, func, callback\u001b[39m=\u001b[39m\u001b[39mNone\u001b[39;00m):\n\u001b[1;32m    207\u001b[0m     \u001b[39m\"\"\"Schedule a func to be run\"\"\"\u001b[39;00m\n\u001b[0;32m--> 208\u001b[0m     result \u001b[39m=\u001b[39m ImmediateResult(func)\n\u001b[1;32m    209\u001b[0m     \u001b[39mif\u001b[39;00m callback:\n\u001b[1;32m    210\u001b[0m         callback(result)\n",
      "File \u001b[0;32m~/University/Unicamp/Teams/MO416/diabetes_fairness/.venv/lib/python3.10/site-packages/joblib/_parallel_backends.py:597\u001b[0m, in \u001b[0;36mImmediateResult.__init__\u001b[0;34m(self, batch)\u001b[0m\n\u001b[1;32m    594\u001b[0m \u001b[39mdef\u001b[39;00m \u001b[39m__init__\u001b[39m(\u001b[39mself\u001b[39m, batch):\n\u001b[1;32m    595\u001b[0m     \u001b[39m# Don't delay the application, to avoid keeping the input\u001b[39;00m\n\u001b[1;32m    596\u001b[0m     \u001b[39m# arguments in memory\u001b[39;00m\n\u001b[0;32m--> 597\u001b[0m     \u001b[39mself\u001b[39m\u001b[39m.\u001b[39mresults \u001b[39m=\u001b[39m batch()\n",
      "File \u001b[0;32m~/University/Unicamp/Teams/MO416/diabetes_fairness/.venv/lib/python3.10/site-packages/joblib/parallel.py:288\u001b[0m, in \u001b[0;36mBatchedCalls.__call__\u001b[0;34m(self)\u001b[0m\n\u001b[1;32m    284\u001b[0m \u001b[39mdef\u001b[39;00m \u001b[39m__call__\u001b[39m(\u001b[39mself\u001b[39m):\n\u001b[1;32m    285\u001b[0m     \u001b[39m# Set the default nested backend to self._backend but do not set the\u001b[39;00m\n\u001b[1;32m    286\u001b[0m     \u001b[39m# change the default number of processes to -1\u001b[39;00m\n\u001b[1;32m    287\u001b[0m     \u001b[39mwith\u001b[39;00m parallel_backend(\u001b[39mself\u001b[39m\u001b[39m.\u001b[39m_backend, n_jobs\u001b[39m=\u001b[39m\u001b[39mself\u001b[39m\u001b[39m.\u001b[39m_n_jobs):\n\u001b[0;32m--> 288\u001b[0m         \u001b[39mreturn\u001b[39;00m [func(\u001b[39m*\u001b[39margs, \u001b[39m*\u001b[39m\u001b[39m*\u001b[39mkwargs)\n\u001b[1;32m    289\u001b[0m                 \u001b[39mfor\u001b[39;00m func, args, kwargs \u001b[39min\u001b[39;00m \u001b[39mself\u001b[39m\u001b[39m.\u001b[39mitems]\n",
      "File \u001b[0;32m~/University/Unicamp/Teams/MO416/diabetes_fairness/.venv/lib/python3.10/site-packages/joblib/parallel.py:288\u001b[0m, in \u001b[0;36m<listcomp>\u001b[0;34m(.0)\u001b[0m\n\u001b[1;32m    284\u001b[0m \u001b[39mdef\u001b[39;00m \u001b[39m__call__\u001b[39m(\u001b[39mself\u001b[39m):\n\u001b[1;32m    285\u001b[0m     \u001b[39m# Set the default nested backend to self._backend but do not set the\u001b[39;00m\n\u001b[1;32m    286\u001b[0m     \u001b[39m# change the default number of processes to -1\u001b[39;00m\n\u001b[1;32m    287\u001b[0m     \u001b[39mwith\u001b[39;00m parallel_backend(\u001b[39mself\u001b[39m\u001b[39m.\u001b[39m_backend, n_jobs\u001b[39m=\u001b[39m\u001b[39mself\u001b[39m\u001b[39m.\u001b[39m_n_jobs):\n\u001b[0;32m--> 288\u001b[0m         \u001b[39mreturn\u001b[39;00m [func(\u001b[39m*\u001b[39;49margs, \u001b[39m*\u001b[39;49m\u001b[39m*\u001b[39;49mkwargs)\n\u001b[1;32m    289\u001b[0m                 \u001b[39mfor\u001b[39;00m func, args, kwargs \u001b[39min\u001b[39;00m \u001b[39mself\u001b[39m\u001b[39m.\u001b[39mitems]\n",
      "File \u001b[0;32m~/University/Unicamp/Teams/MO416/diabetes_fairness/.venv/lib/python3.10/site-packages/sklearn/utils/fixes.py:117\u001b[0m, in \u001b[0;36m_FuncWrapper.__call__\u001b[0;34m(self, *args, **kwargs)\u001b[0m\n\u001b[1;32m    115\u001b[0m \u001b[39mdef\u001b[39;00m \u001b[39m__call__\u001b[39m(\u001b[39mself\u001b[39m, \u001b[39m*\u001b[39margs, \u001b[39m*\u001b[39m\u001b[39m*\u001b[39mkwargs):\n\u001b[1;32m    116\u001b[0m     \u001b[39mwith\u001b[39;00m config_context(\u001b[39m*\u001b[39m\u001b[39m*\u001b[39m\u001b[39mself\u001b[39m\u001b[39m.\u001b[39mconfig):\n\u001b[0;32m--> 117\u001b[0m         \u001b[39mreturn\u001b[39;00m \u001b[39mself\u001b[39;49m\u001b[39m.\u001b[39;49mfunction(\u001b[39m*\u001b[39;49margs, \u001b[39m*\u001b[39;49m\u001b[39m*\u001b[39;49mkwargs)\n",
      "File \u001b[0;32m~/University/Unicamp/Teams/MO416/diabetes_fairness/.venv/lib/python3.10/site-packages/sklearn/multiclass.py:83\u001b[0m, in \u001b[0;36m_fit_binary\u001b[0;34m(estimator, X, y, classes)\u001b[0m\n\u001b[1;32m     81\u001b[0m \u001b[39melse\u001b[39;00m:\n\u001b[1;32m     82\u001b[0m     estimator \u001b[39m=\u001b[39m clone(estimator)\n\u001b[0;32m---> 83\u001b[0m     estimator\u001b[39m.\u001b[39;49mfit(X, y)\n\u001b[1;32m     84\u001b[0m \u001b[39mreturn\u001b[39;00m estimator\n",
      "File \u001b[0;32m~/University/Unicamp/Teams/MO416/diabetes_fairness/.venv/lib/python3.10/site-packages/sklego/linear_model.py:242\u001b[0m, in \u001b[0;36m_FairClassifier.fit\u001b[0;34m(self, X, y)\u001b[0m\n\u001b[1;32m    240\u001b[0m \u001b[39mself\u001b[39m\u001b[39m.\u001b[39msensitive_col_idx_ \u001b[39m=\u001b[39m \u001b[39mself\u001b[39m\u001b[39m.\u001b[39msensitive_cols\n\u001b[1;32m    241\u001b[0m \u001b[39mif\u001b[39;00m \u001b[39misinstance\u001b[39m(X, pd\u001b[39m.\u001b[39mDataFrame):\n\u001b[0;32m--> 242\u001b[0m     \u001b[39mself\u001b[39m\u001b[39m.\u001b[39msensitive_col_idx_ \u001b[39m=\u001b[39m [\n\u001b[1;32m    243\u001b[0m         i \u001b[39mfor\u001b[39;00m i, name \u001b[39min\u001b[39;00m \u001b[39menumerate\u001b[39m(X\u001b[39m.\u001b[39mcolumns) \u001b[39mif\u001b[39;00m name \u001b[39min\u001b[39;00m \u001b[39mself\u001b[39m\u001b[39m.\u001b[39msensitive_cols\n\u001b[1;32m    244\u001b[0m     ]\n\u001b[1;32m    245\u001b[0m X, y \u001b[39m=\u001b[39m check_X_y(X, y, accept_large_sparse\u001b[39m=\u001b[39m\u001b[39mFalse\u001b[39;00m)\n\u001b[1;32m    247\u001b[0m sensitive \u001b[39m=\u001b[39m X[:, \u001b[39mself\u001b[39m\u001b[39m.\u001b[39msensitive_col_idx_]\n",
      "File \u001b[0;32m~/University/Unicamp/Teams/MO416/diabetes_fairness/.venv/lib/python3.10/site-packages/sklego/linear_model.py:243\u001b[0m, in \u001b[0;36m<listcomp>\u001b[0;34m(.0)\u001b[0m\n\u001b[1;32m    240\u001b[0m \u001b[39mself\u001b[39m\u001b[39m.\u001b[39msensitive_col_idx_ \u001b[39m=\u001b[39m \u001b[39mself\u001b[39m\u001b[39m.\u001b[39msensitive_cols\n\u001b[1;32m    241\u001b[0m \u001b[39mif\u001b[39;00m \u001b[39misinstance\u001b[39m(X, pd\u001b[39m.\u001b[39mDataFrame):\n\u001b[1;32m    242\u001b[0m     \u001b[39mself\u001b[39m\u001b[39m.\u001b[39msensitive_col_idx_ \u001b[39m=\u001b[39m [\n\u001b[0;32m--> 243\u001b[0m         i \u001b[39mfor\u001b[39;00m i, name \u001b[39min\u001b[39;00m \u001b[39menumerate\u001b[39m(X\u001b[39m.\u001b[39mcolumns) \u001b[39mif\u001b[39;00m name \u001b[39min\u001b[39;49;00m \u001b[39mself\u001b[39;49m\u001b[39m.\u001b[39;49msensitive_cols\n\u001b[1;32m    244\u001b[0m     ]\n\u001b[1;32m    245\u001b[0m X, y \u001b[39m=\u001b[39m check_X_y(X, y, accept_large_sparse\u001b[39m=\u001b[39m\u001b[39mFalse\u001b[39;00m)\n\u001b[1;32m    247\u001b[0m sensitive \u001b[39m=\u001b[39m X[:, \u001b[39mself\u001b[39m\u001b[39m.\u001b[39msensitive_col_idx_]\n",
      "\u001b[0;31mTypeError\u001b[0m: argument of type 'int' is not iterable"
     ]
    }
   ],
   "source": [
    "C = 1000000000\n",
    "covariance_threshold = 0.000001\n",
    "\n",
    "model = EqualOpportunityClassifier(sensitive_cols=0, positive_target=True, covariance_threshold=covariance_threshold, C=C, max_iter=10**5)\n",
    "model.fit(X_train, y_train)"
   ]
  },
  {
   "cell_type": "code",
   "execution_count": null,
   "metadata": {},
   "outputs": [],
   "source": []
  }
 ],
 "metadata": {
  "kernelspec": {
   "display_name": "Python 3.10.6 ('.venv': venv)",
   "language": "python",
   "name": "python3"
  },
  "language_info": {
   "codemirror_mode": {
    "name": "ipython",
    "version": 3
   },
   "file_extension": ".py",
   "mimetype": "text/x-python",
   "name": "python",
   "nbconvert_exporter": "python",
   "pygments_lexer": "ipython3",
   "version": "3.10.6"
  },
  "orig_nbformat": 4,
  "vscode": {
   "interpreter": {
    "hash": "b22856568f273c50d26b3f264176e92592b5c9c890a1dee2575963e574ed9daf"
   }
  }
 },
 "nbformat": 4,
 "nbformat_minor": 2
}
